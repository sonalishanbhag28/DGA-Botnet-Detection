{
 "cells": [
  {
   "cell_type": "markdown",
   "metadata": {
    "id": "APB4TroWs_m2"
   },
   "source": [
    "# **DGA Botnet Detection** \n",
    "\n",
    "Sonali Shripad Shanbhag (19BDS0114) , Sona Ann Joseph (19BCE2262), Riddhi Gupta (19BCE2273) and Pranay Kumawat (19BCE2244)\n"
   ]
  },
  {
   "cell_type": "markdown",
   "metadata": {
    "id": "JXCOg0RytUgS"
   },
   "source": [
    "### Step 1: Import required libraries, packages and corpora"
   ]
  },
  {
   "cell_type": "code",
   "execution_count": 1,
   "metadata": {
    "id": "pkxzjMdWK6oi"
   },
   "outputs": [],
   "source": [
    "import pandas as pd\n",
    "import numpy as np\n",
    "import re \n",
    "import nltk\n",
    "import sklearn\n",
    "from nltk.corpus import stopwords \n",
    "from nltk.stem.porter import PorterStemmer\n",
    "from sklearn.preprocessing import LabelEncoder\n",
    "from sklearn.model_selection import train_test_split\n",
    "from sklearn.feature_extraction.text import CountVectorizer\n",
    "from tensorflow.keras.models import Sequential\n",
    "from tensorflow.keras import layers\n",
    "from tensorflow.keras.layers import Dense\n",
    "import matplotlib.pyplot as plt\n",
    "import seaborn as sns\n",
    "import pandas as pd\n",
    "import numpy as np\n",
    "import sklearn\n",
    "import matplotlib.pyplot as plt\n",
    "import seaborn as sns\n",
    "import tensorflow as tf\n",
    "from sklearn import preprocessing\n",
    "from sklearn.preprocessing import LabelEncoder\n",
    "from sklearn.model_selection import train_test_split\n",
    "from sklearn.feature_extraction.text import CountVectorizer\n",
    "from tensorflow.keras.layers import *\n",
    "from tensorflow.keras.models import *\n",
    "from tensorflow.keras.preprocessing.sequence import pad_sequences\n",
    "from tensorflow.keras.preprocessing.text import one_hot\n",
    "from sklearn.linear_model import LogisticRegression\n",
    "from sklearn.naive_bayes import GaussianNB\n",
    "from sklearn.linear_model import SGDClassifier\n",
    "from sklearn.neighbors import KNeighborsClassifier\n",
    "from sklearn.tree import DecisionTreeClassifier\n",
    "from sklearn.ensemble import RandomForestClassifier\n",
    "from sklearn.svm import SVC \n",
    "from sklearn.metrics import confusion_matrix, accuracy_score, precision_score, recall_score, f1_score, classification_report\n",
    "from sklearn.preprocessing import StandardScaler\n",
    "import warnings\n",
    "warnings.filterwarnings('ignore')"
   ]
  },
  {
   "cell_type": "code",
   "execution_count": 2,
   "metadata": {
    "colab": {
     "base_uri": "https://localhost:8080/"
    },
    "id": "yqQKzewMLKfD",
    "outputId": "aeb2856f-7334-4acc-b7f1-67515c3eb4b0"
   },
   "outputs": [
    {
     "name": "stderr",
     "output_type": "stream",
     "text": [
      "[nltk_data] Downloading package stopwords to\n",
      "[nltk_data]     C:\\Users\\sonali\\AppData\\Roaming\\nltk_data...\n",
      "[nltk_data]   Package stopwords is already up-to-date!\n"
     ]
    }
   ],
   "source": [
    "#Download the corpus of stopwords from NLTK (Natural Language Toolkit)\n",
    "nltk.download(\"stopwords\") \n",
    "#Instantiate ProterStemmer()\n",
    "ps = PorterStemmer()"
   ]
  },
  {
   "cell_type": "markdown",
   "metadata": {
    "id": "7hUM6HfVt_3d"
   },
   "source": [
    "### Step 2. Read the dataset"
   ]
  },
  {
   "cell_type": "code",
   "execution_count": 3,
   "metadata": {
    "id": "0uyQMvzXLxbu"
   },
   "outputs": [],
   "source": [
    "dataset = pd.read_csv(\"C:\\\\Users\\\\sonali\\\\Downloads\\\\mixed_domains.csv\")"
   ]
  },
  {
   "cell_type": "code",
   "execution_count": 4,
   "metadata": {
    "colab": {
     "base_uri": "https://localhost:8080/",
     "height": 206
    },
    "id": "ItaV2PxqMGGm",
    "outputId": "ae98f6a8-c9c7-4088-9dc1-1054e85cb9cd"
   },
   "outputs": [
    {
     "data": {
      "text/html": [
       "<div>\n",
       "<style scoped>\n",
       "    .dataframe tbody tr th:only-of-type {\n",
       "        vertical-align: middle;\n",
       "    }\n",
       "\n",
       "    .dataframe tbody tr th {\n",
       "        vertical-align: top;\n",
       "    }\n",
       "\n",
       "    .dataframe thead th {\n",
       "        text-align: right;\n",
       "    }\n",
       "</style>\n",
       "<table border=\"1\" class=\"dataframe\">\n",
       "  <thead>\n",
       "    <tr style=\"text-align: right;\">\n",
       "      <th></th>\n",
       "      <th>DGA_family</th>\n",
       "      <th>Domain</th>\n",
       "      <th>Type</th>\n",
       "    </tr>\n",
       "  </thead>\n",
       "  <tbody>\n",
       "    <tr>\n",
       "      <th>0</th>\n",
       "      <td>banjori</td>\n",
       "      <td>vrxhererwyatanb.com</td>\n",
       "      <td>DGA</td>\n",
       "    </tr>\n",
       "    <tr>\n",
       "      <th>1</th>\n",
       "      <td>banjori</td>\n",
       "      <td>rjdwmachuslazaroqok.com</td>\n",
       "      <td>DGA</td>\n",
       "    </tr>\n",
       "    <tr>\n",
       "      <th>2</th>\n",
       "      <td>none</td>\n",
       "      <td>mte.gov.br</td>\n",
       "      <td>Normal</td>\n",
       "    </tr>\n",
       "    <tr>\n",
       "      <th>3</th>\n",
       "      <td>none</td>\n",
       "      <td>animefangirl00.tumblr.com</td>\n",
       "      <td>Normal</td>\n",
       "    </tr>\n",
       "    <tr>\n",
       "      <th>4</th>\n",
       "      <td>none</td>\n",
       "      <td>seacenter.ir</td>\n",
       "      <td>Normal</td>\n",
       "    </tr>\n",
       "  </tbody>\n",
       "</table>\n",
       "</div>"
      ],
      "text/plain": [
       "  DGA_family                     Domain    Type\n",
       "0    banjori        vrxhererwyatanb.com     DGA\n",
       "1    banjori    rjdwmachuslazaroqok.com     DGA\n",
       "2       none                 mte.gov.br  Normal\n",
       "3       none  animefangirl00.tumblr.com  Normal\n",
       "4       none               seacenter.ir  Normal"
      ]
     },
     "execution_count": 4,
     "metadata": {},
     "output_type": "execute_result"
    }
   ],
   "source": [
    "dataset.head()"
   ]
  },
  {
   "cell_type": "markdown",
   "metadata": {
    "id": "_jOx2d7UuNBk"
   },
   "source": [
    "### Step 3. Data Pre-Processing"
   ]
  },
  {
   "cell_type": "code",
   "execution_count": 5,
   "metadata": {
    "colab": {
     "base_uri": "https://localhost:8080/"
    },
    "id": "gX_saFx4Oohs",
    "outputId": "b0cf18b1-43d6-4f79-c1e7-79ad895b8a02"
   },
   "outputs": [
    {
     "data": {
      "text/plain": [
       "(20000, 3)"
      ]
     },
     "execution_count": 5,
     "metadata": {},
     "output_type": "execute_result"
    }
   ],
   "source": [
    "dataset.shape"
   ]
  },
  {
   "cell_type": "code",
   "execution_count": 6,
   "metadata": {},
   "outputs": [
    {
     "data": {
      "text/plain": [
       "0           DGA\n",
       "1           DGA\n",
       "2        Normal\n",
       "3        Normal\n",
       "4        Normal\n",
       "          ...  \n",
       "19995       DGA\n",
       "19996       DGA\n",
       "19997    Normal\n",
       "19998       DGA\n",
       "19999       DGA\n",
       "Name: Type, Length: 20000, dtype: object"
      ]
     },
     "execution_count": 6,
     "metadata": {},
     "output_type": "execute_result"
    }
   ],
   "source": [
    "x=dataset.iloc[:, 0:-1]\n",
    "y=dataset.iloc[:,-1]\n",
    "y"
   ]
  },
  {
   "cell_type": "markdown",
   "metadata": {
    "id": "cIQgpOpTuSEl"
   },
   "source": [
    "#### i. Check for Missing Values (NaN)"
   ]
  },
  {
   "cell_type": "code",
   "execution_count": 7,
   "metadata": {
    "id": "Ilu4O8c2NZ3F"
   },
   "outputs": [],
   "source": [
    "dataset = dataset.dropna(how='any',axis=0) "
   ]
  },
  {
   "cell_type": "code",
   "execution_count": 8,
   "metadata": {
    "colab": {
     "base_uri": "https://localhost:8080/"
    },
    "id": "Az07bspsOmfj",
    "outputId": "8cb62538-79b3-4461-fb30-b114871aebae"
   },
   "outputs": [
    {
     "data": {
      "text/plain": [
       "DGA_family    0\n",
       "Domain        0\n",
       "Type          0\n",
       "dtype: int64"
      ]
     },
     "execution_count": 8,
     "metadata": {},
     "output_type": "execute_result"
    }
   ],
   "source": [
    "dataset.isnull().sum()"
   ]
  },
  {
   "cell_type": "markdown",
   "metadata": {
    "id": "S2fqwAXsunl6"
   },
   "source": [
    "#### ii. Pre-Processing Function\n",
    "\n",
    "Using Regular Expressions, remove all non-textual data including symbols, special characters, emojis and numbers.\n",
    "Normalize the case by converting all to lower case.\n",
    "Split the sentences into words, reduce the words to their stems and remove any stop words.\n",
    "Rejoin the split words with a whitespace to form a simple, cleaned sentence.\n"
   ]
  },
  {
   "cell_type": "code",
   "execution_count": 9,
   "metadata": {
    "id": "wDxweT4OP4fo"
   },
   "outputs": [],
   "source": [
    "def preprocess_column(col_name, col_length):\n",
    "  preprocessed_data = []\n",
    "  for i in range(0,col_length):\n",
    "        col_value = dataset[col_name][i]\n",
    "        col_value = re.sub('[^a-zA-Z]', ' ', col_value)\n",
    "        col_value = col_value.lower()\n",
    "        col_value = col_value.split()\n",
    "        col_value = [ps.stem(word) for word in col_value if not word in set(stopwords.words('english'))]\n",
    "        col_value = ' '.join(col_value)\n",
    "        preprocessed_data.append(col_value)\n",
    "  return preprocessed_data"
   ]
  },
  {
   "cell_type": "code",
   "execution_count": 10,
   "metadata": {
    "id": "5cFb4j-uOzp4"
   },
   "outputs": [],
   "source": [
    "#Calling the function for column \"Domain\"\n",
    "preprocessed_domain = preprocess_column(\"Domain\",20000)"
   ]
  },
  {
   "cell_type": "markdown",
   "metadata": {
    "id": "hN3heR17wFUB"
   },
   "source": [
    "#### iii. Feature Extraction using Count Vectorizer\n",
    "\n",
    "Convert a collection of text documents to a sparse matrix representation of token counts. Or, quite simply, it is used to transform a given text into a vector on the basis of the frequency (count) of each word that occurs in the entire text."
   ]
  },
  {
   "cell_type": "code",
   "execution_count": 11,
   "metadata": {
    "id": "WK8IsMuDQvAW"
   },
   "outputs": [
    {
     "data": {
      "text/plain": [
       "array([[0, 0, 0, ..., 0, 0, 0],\n",
       "       [0, 0, 0, ..., 0, 0, 0],\n",
       "       [0, 0, 0, ..., 0, 0, 0],\n",
       "       ...,\n",
       "       [0, 0, 0, ..., 0, 0, 0],\n",
       "       [0, 0, 0, ..., 0, 0, 0],\n",
       "       [0, 0, 0, ..., 0, 0, 0]], dtype=int64)"
      ]
     },
     "execution_count": 11,
     "metadata": {},
     "output_type": "execute_result"
    }
   ],
   "source": [
    "cv = CountVectorizer(max_features = 200)\n",
    "x = cv.fit_transform(preprocessed_domain).toarray() #preprocessed data in the form of a sparse matrix\n",
    "x"
   ]
  },
  {
   "cell_type": "markdown",
   "metadata": {
    "id": "4KEOSUWFvid2"
   },
   "source": [
    "#### iv. Handling Categorical Values- Label Encoding\n",
    "Replace the categories in the dependent (y) column with numeric values for easier processing in the machine-readable form.\n",
    "Here, we have \"Real\" and \"Fake\" which will be assigned values \"1\" and \"0\" respectively (according to alphabetical order)"
   ]
  },
  {
   "cell_type": "code",
   "execution_count": 12,
   "metadata": {
    "id": "LkOBr92pZJ1u"
   },
   "outputs": [
    {
     "data": {
      "text/plain": [
       "0         5\n",
       "1         5\n",
       "2        26\n",
       "3        26\n",
       "4        26\n",
       "         ..\n",
       "19995    47\n",
       "19996    36\n",
       "19997    26\n",
       "19998    14\n",
       "19999    25\n",
       "Name: DGA_family, Length: 20000, dtype: int32"
      ]
     },
     "execution_count": 12,
     "metadata": {},
     "output_type": "execute_result"
    }
   ],
   "source": [
    "le=LabelEncoder()\n",
    "dataset['Type']=le.fit_transform(dataset['Type'])\n",
    "dataset['DGA_family']=le.fit_transform(dataset['DGA_family'])\n",
    "dga_family=dataset['DGA_family']\n",
    "dga_family"
   ]
  },
  {
   "cell_type": "markdown",
   "metadata": {
    "id": "-8DO2oi-weuA"
   },
   "source": [
    "### Step 5. Split the dataset into Train and Test sets\n",
    "\n",
    "Here, we are using a 20-80 ratio, assigning an alias of \"0\" to this particular random state."
   ]
  },
  {
   "cell_type": "code",
   "execution_count": 13,
   "metadata": {},
   "outputs": [
    {
     "data": {
      "text/html": [
       "<div>\n",
       "<style scoped>\n",
       "    .dataframe tbody tr th:only-of-type {\n",
       "        vertical-align: middle;\n",
       "    }\n",
       "\n",
       "    .dataframe tbody tr th {\n",
       "        vertical-align: top;\n",
       "    }\n",
       "\n",
       "    .dataframe thead th {\n",
       "        text-align: right;\n",
       "    }\n",
       "</style>\n",
       "<table border=\"1\" class=\"dataframe\">\n",
       "  <thead>\n",
       "    <tr style=\"text-align: right;\">\n",
       "      <th></th>\n",
       "      <th>0</th>\n",
       "      <th>1</th>\n",
       "      <th>2</th>\n",
       "      <th>3</th>\n",
       "      <th>4</th>\n",
       "      <th>5</th>\n",
       "      <th>6</th>\n",
       "      <th>7</th>\n",
       "      <th>8</th>\n",
       "      <th>9</th>\n",
       "      <th>...</th>\n",
       "      <th>190</th>\n",
       "      <th>191</th>\n",
       "      <th>192</th>\n",
       "      <th>193</th>\n",
       "      <th>194</th>\n",
       "      <th>195</th>\n",
       "      <th>196</th>\n",
       "      <th>197</th>\n",
       "      <th>198</th>\n",
       "      <th>199</th>\n",
       "    </tr>\n",
       "    <tr>\n",
       "      <th>DGA_family</th>\n",
       "      <th></th>\n",
       "      <th></th>\n",
       "      <th></th>\n",
       "      <th></th>\n",
       "      <th></th>\n",
       "      <th></th>\n",
       "      <th></th>\n",
       "      <th></th>\n",
       "      <th></th>\n",
       "      <th></th>\n",
       "      <th></th>\n",
       "      <th></th>\n",
       "      <th></th>\n",
       "      <th></th>\n",
       "      <th></th>\n",
       "      <th></th>\n",
       "      <th></th>\n",
       "      <th></th>\n",
       "      <th></th>\n",
       "      <th></th>\n",
       "      <th></th>\n",
       "    </tr>\n",
       "  </thead>\n",
       "  <tbody>\n",
       "    <tr>\n",
       "      <th>5</th>\n",
       "      <td>0</td>\n",
       "      <td>0</td>\n",
       "      <td>0</td>\n",
       "      <td>0</td>\n",
       "      <td>0</td>\n",
       "      <td>0</td>\n",
       "      <td>0</td>\n",
       "      <td>0</td>\n",
       "      <td>0</td>\n",
       "      <td>0</td>\n",
       "      <td>...</td>\n",
       "      <td>0</td>\n",
       "      <td>0</td>\n",
       "      <td>0</td>\n",
       "      <td>0</td>\n",
       "      <td>0</td>\n",
       "      <td>0</td>\n",
       "      <td>0</td>\n",
       "      <td>0</td>\n",
       "      <td>0</td>\n",
       "      <td>0</td>\n",
       "    </tr>\n",
       "    <tr>\n",
       "      <th>5</th>\n",
       "      <td>0</td>\n",
       "      <td>0</td>\n",
       "      <td>0</td>\n",
       "      <td>0</td>\n",
       "      <td>0</td>\n",
       "      <td>0</td>\n",
       "      <td>0</td>\n",
       "      <td>0</td>\n",
       "      <td>0</td>\n",
       "      <td>0</td>\n",
       "      <td>...</td>\n",
       "      <td>0</td>\n",
       "      <td>0</td>\n",
       "      <td>0</td>\n",
       "      <td>0</td>\n",
       "      <td>0</td>\n",
       "      <td>0</td>\n",
       "      <td>0</td>\n",
       "      <td>0</td>\n",
       "      <td>0</td>\n",
       "      <td>0</td>\n",
       "    </tr>\n",
       "    <tr>\n",
       "      <th>26</th>\n",
       "      <td>0</td>\n",
       "      <td>0</td>\n",
       "      <td>0</td>\n",
       "      <td>0</td>\n",
       "      <td>0</td>\n",
       "      <td>0</td>\n",
       "      <td>0</td>\n",
       "      <td>0</td>\n",
       "      <td>0</td>\n",
       "      <td>0</td>\n",
       "      <td>...</td>\n",
       "      <td>0</td>\n",
       "      <td>0</td>\n",
       "      <td>0</td>\n",
       "      <td>0</td>\n",
       "      <td>0</td>\n",
       "      <td>0</td>\n",
       "      <td>0</td>\n",
       "      <td>0</td>\n",
       "      <td>0</td>\n",
       "      <td>0</td>\n",
       "    </tr>\n",
       "    <tr>\n",
       "      <th>26</th>\n",
       "      <td>0</td>\n",
       "      <td>0</td>\n",
       "      <td>0</td>\n",
       "      <td>0</td>\n",
       "      <td>0</td>\n",
       "      <td>0</td>\n",
       "      <td>0</td>\n",
       "      <td>0</td>\n",
       "      <td>0</td>\n",
       "      <td>0</td>\n",
       "      <td>...</td>\n",
       "      <td>0</td>\n",
       "      <td>0</td>\n",
       "      <td>0</td>\n",
       "      <td>0</td>\n",
       "      <td>0</td>\n",
       "      <td>0</td>\n",
       "      <td>0</td>\n",
       "      <td>0</td>\n",
       "      <td>0</td>\n",
       "      <td>0</td>\n",
       "    </tr>\n",
       "    <tr>\n",
       "      <th>26</th>\n",
       "      <td>0</td>\n",
       "      <td>0</td>\n",
       "      <td>0</td>\n",
       "      <td>0</td>\n",
       "      <td>0</td>\n",
       "      <td>0</td>\n",
       "      <td>0</td>\n",
       "      <td>0</td>\n",
       "      <td>0</td>\n",
       "      <td>0</td>\n",
       "      <td>...</td>\n",
       "      <td>0</td>\n",
       "      <td>0</td>\n",
       "      <td>0</td>\n",
       "      <td>0</td>\n",
       "      <td>0</td>\n",
       "      <td>0</td>\n",
       "      <td>0</td>\n",
       "      <td>0</td>\n",
       "      <td>0</td>\n",
       "      <td>0</td>\n",
       "    </tr>\n",
       "    <tr>\n",
       "      <th>...</th>\n",
       "      <td>...</td>\n",
       "      <td>...</td>\n",
       "      <td>...</td>\n",
       "      <td>...</td>\n",
       "      <td>...</td>\n",
       "      <td>...</td>\n",
       "      <td>...</td>\n",
       "      <td>...</td>\n",
       "      <td>...</td>\n",
       "      <td>...</td>\n",
       "      <td>...</td>\n",
       "      <td>...</td>\n",
       "      <td>...</td>\n",
       "      <td>...</td>\n",
       "      <td>...</td>\n",
       "      <td>...</td>\n",
       "      <td>...</td>\n",
       "      <td>...</td>\n",
       "      <td>...</td>\n",
       "      <td>...</td>\n",
       "      <td>...</td>\n",
       "    </tr>\n",
       "    <tr>\n",
       "      <th>47</th>\n",
       "      <td>0</td>\n",
       "      <td>0</td>\n",
       "      <td>0</td>\n",
       "      <td>0</td>\n",
       "      <td>0</td>\n",
       "      <td>0</td>\n",
       "      <td>0</td>\n",
       "      <td>0</td>\n",
       "      <td>0</td>\n",
       "      <td>0</td>\n",
       "      <td>...</td>\n",
       "      <td>0</td>\n",
       "      <td>0</td>\n",
       "      <td>0</td>\n",
       "      <td>0</td>\n",
       "      <td>0</td>\n",
       "      <td>1</td>\n",
       "      <td>0</td>\n",
       "      <td>0</td>\n",
       "      <td>0</td>\n",
       "      <td>0</td>\n",
       "    </tr>\n",
       "    <tr>\n",
       "      <th>36</th>\n",
       "      <td>0</td>\n",
       "      <td>0</td>\n",
       "      <td>0</td>\n",
       "      <td>0</td>\n",
       "      <td>0</td>\n",
       "      <td>0</td>\n",
       "      <td>0</td>\n",
       "      <td>0</td>\n",
       "      <td>0</td>\n",
       "      <td>0</td>\n",
       "      <td>...</td>\n",
       "      <td>0</td>\n",
       "      <td>0</td>\n",
       "      <td>0</td>\n",
       "      <td>0</td>\n",
       "      <td>0</td>\n",
       "      <td>0</td>\n",
       "      <td>0</td>\n",
       "      <td>0</td>\n",
       "      <td>0</td>\n",
       "      <td>0</td>\n",
       "    </tr>\n",
       "    <tr>\n",
       "      <th>26</th>\n",
       "      <td>0</td>\n",
       "      <td>0</td>\n",
       "      <td>0</td>\n",
       "      <td>0</td>\n",
       "      <td>0</td>\n",
       "      <td>0</td>\n",
       "      <td>0</td>\n",
       "      <td>0</td>\n",
       "      <td>0</td>\n",
       "      <td>0</td>\n",
       "      <td>...</td>\n",
       "      <td>0</td>\n",
       "      <td>0</td>\n",
       "      <td>0</td>\n",
       "      <td>0</td>\n",
       "      <td>0</td>\n",
       "      <td>0</td>\n",
       "      <td>0</td>\n",
       "      <td>0</td>\n",
       "      <td>0</td>\n",
       "      <td>0</td>\n",
       "    </tr>\n",
       "    <tr>\n",
       "      <th>14</th>\n",
       "      <td>0</td>\n",
       "      <td>0</td>\n",
       "      <td>0</td>\n",
       "      <td>0</td>\n",
       "      <td>0</td>\n",
       "      <td>0</td>\n",
       "      <td>0</td>\n",
       "      <td>0</td>\n",
       "      <td>0</td>\n",
       "      <td>0</td>\n",
       "      <td>...</td>\n",
       "      <td>0</td>\n",
       "      <td>0</td>\n",
       "      <td>0</td>\n",
       "      <td>0</td>\n",
       "      <td>0</td>\n",
       "      <td>0</td>\n",
       "      <td>0</td>\n",
       "      <td>0</td>\n",
       "      <td>0</td>\n",
       "      <td>0</td>\n",
       "    </tr>\n",
       "    <tr>\n",
       "      <th>25</th>\n",
       "      <td>0</td>\n",
       "      <td>0</td>\n",
       "      <td>0</td>\n",
       "      <td>0</td>\n",
       "      <td>0</td>\n",
       "      <td>0</td>\n",
       "      <td>0</td>\n",
       "      <td>0</td>\n",
       "      <td>0</td>\n",
       "      <td>0</td>\n",
       "      <td>...</td>\n",
       "      <td>0</td>\n",
       "      <td>0</td>\n",
       "      <td>0</td>\n",
       "      <td>0</td>\n",
       "      <td>0</td>\n",
       "      <td>0</td>\n",
       "      <td>0</td>\n",
       "      <td>0</td>\n",
       "      <td>0</td>\n",
       "      <td>0</td>\n",
       "    </tr>\n",
       "  </tbody>\n",
       "</table>\n",
       "<p>20000 rows × 200 columns</p>\n",
       "</div>"
      ],
      "text/plain": [
       "            0    1    2    3    4    5    6    7    8    9    ...  190  191  \\\n",
       "DGA_family                                                    ...             \n",
       "5             0    0    0    0    0    0    0    0    0    0  ...    0    0   \n",
       "5             0    0    0    0    0    0    0    0    0    0  ...    0    0   \n",
       "26            0    0    0    0    0    0    0    0    0    0  ...    0    0   \n",
       "26            0    0    0    0    0    0    0    0    0    0  ...    0    0   \n",
       "26            0    0    0    0    0    0    0    0    0    0  ...    0    0   \n",
       "...         ...  ...  ...  ...  ...  ...  ...  ...  ...  ...  ...  ...  ...   \n",
       "47            0    0    0    0    0    0    0    0    0    0  ...    0    0   \n",
       "36            0    0    0    0    0    0    0    0    0    0  ...    0    0   \n",
       "26            0    0    0    0    0    0    0    0    0    0  ...    0    0   \n",
       "14            0    0    0    0    0    0    0    0    0    0  ...    0    0   \n",
       "25            0    0    0    0    0    0    0    0    0    0  ...    0    0   \n",
       "\n",
       "            192  193  194  195  196  197  198  199  \n",
       "DGA_family                                          \n",
       "5             0    0    0    0    0    0    0    0  \n",
       "5             0    0    0    0    0    0    0    0  \n",
       "26            0    0    0    0    0    0    0    0  \n",
       "26            0    0    0    0    0    0    0    0  \n",
       "26            0    0    0    0    0    0    0    0  \n",
       "...         ...  ...  ...  ...  ...  ...  ...  ...  \n",
       "47            0    0    0    1    0    0    0    0  \n",
       "36            0    0    0    0    0    0    0    0  \n",
       "26            0    0    0    0    0    0    0    0  \n",
       "14            0    0    0    0    0    0    0    0  \n",
       "25            0    0    0    0    0    0    0    0  \n",
       "\n",
       "[20000 rows x 200 columns]"
      ]
     },
     "execution_count": 13,
     "metadata": {},
     "output_type": "execute_result"
    }
   ],
   "source": [
    "new_x=pd.DataFrame(x,dga_family)\n",
    "new_x"
   ]
  },
  {
   "cell_type": "code",
   "execution_count": 14,
   "metadata": {},
   "outputs": [
    {
     "data": {
      "text/plain": [
       "0        0\n",
       "1        0\n",
       "2        1\n",
       "3        1\n",
       "4        1\n",
       "        ..\n",
       "19995    0\n",
       "19996    0\n",
       "19997    1\n",
       "19998    0\n",
       "19999    0\n",
       "Name: Type, Length: 20000, dtype: int32"
      ]
     },
     "execution_count": 14,
     "metadata": {},
     "output_type": "execute_result"
    }
   ],
   "source": [
    "y = dataset['Type']\n",
    "y"
   ]
  },
  {
   "cell_type": "code",
   "execution_count": 15,
   "metadata": {
    "id": "X_OoM6w9XiaJ"
   },
   "outputs": [],
   "source": [
    "x_train,x_test,y_train,y_test = train_test_split(new_x,y,test_size = 0.2, random_state = 0)"
   ]
  },
  {
   "cell_type": "code",
   "execution_count": 16,
   "metadata": {
    "colab": {
     "base_uri": "https://localhost:8080/"
    },
    "id": "DrSQPe6FYQiK",
    "outputId": "26a7a596-f6e0-4278-9f10-5ce631216121"
   },
   "outputs": [
    {
     "name": "stdout",
     "output_type": "stream",
     "text": [
      "(16000, 200)\n",
      "(16000,)\n",
      "(4000, 200)\n",
      "(4000,)\n"
     ]
    }
   ],
   "source": [
    "print(x_train.shape)\n",
    "print(y_train.shape)\n",
    "print(x_test.shape)\n",
    "print(y_test.shape)"
   ]
  },
  {
   "cell_type": "markdown",
   "metadata": {
    "id": "FbHNPFRBY77W"
   },
   "source": [
    "### **Logistic Regression**\n",
    "\n",
    "It is a classification algorithm in machine learning that uses one or more independent variables to determine an outcome. The outcome is measured with a dichotomous variable which means it will have only two possible outcomes. For example, it may be used to determine if an email is spam or not, using the rate of misspelled words, a common sign of spam.\n",
    "\n",
    "Here, we are using it to detect whether the domain name is **DGA** or **Normal**. "
   ]
  },
  {
   "cell_type": "code",
   "execution_count": 17,
   "metadata": {
    "colab": {
     "base_uri": "https://localhost:8080/"
    },
    "id": "rRVztkO2ThhT",
    "outputId": "c162f9f0-a293-4194-aeac-89e8ad4101c4"
   },
   "outputs": [
    {
     "name": "stdout",
     "output_type": "stream",
     "text": [
      "Logistic Regression Accuracy: \n",
      "72.7 %\n"
     ]
    }
   ],
   "source": [
    "#Using Logistic Regression\n",
    "from sklearn.linear_model import LogisticRegression\n",
    "lr=LogisticRegression()\n",
    "lr.fit(x_train,y_train)\n",
    "lr_ypred=lr.predict(x_test)\n",
    "lr_acc = sklearn.metrics.accuracy_score(y_test, lr_ypred)\n",
    "print(\"Logistic Regression Accuracy: \")\n",
    "print(lr_acc*100,\"%\")"
   ]
  },
  {
   "cell_type": "code",
   "execution_count": 18,
   "metadata": {
    "id": "oNNEIg-HWFHa"
   },
   "outputs": [],
   "source": [
    "# pr= lr.predict(cv.transform([text_cleaner(headline2)]))\n",
    "# if pr>0.5:\n",
    "#   print(\"Normal\")\n",
    "# else:\n",
    "#   print(\"DGA!!!!!!!!!!\")"
   ]
  },
  {
   "cell_type": "markdown",
   "metadata": {
    "id": "5dHqUjAsZYUw"
   },
   "source": [
    "### **Naive Bayes Classifier**\n",
    "\n",
    "Naive Bayes algorithm is based on Bayes’ theorem with the assumption of independence between every pair of features. It assumes that the presence of a particular feature in a class is unrelated to the presence of any other feature. Even if the features depend on each other, all of these properties contribute to the probability independently."
   ]
  },
  {
   "cell_type": "code",
   "execution_count": 19,
   "metadata": {
    "colab": {
     "base_uri": "https://localhost:8080/"
    },
    "id": "r5C-q2_9ZcDm",
    "outputId": "e7b82142-c0e4-4b8a-de27-346eee25cc88"
   },
   "outputs": [
    {
     "name": "stdout",
     "output_type": "stream",
     "text": [
      "Naive Bayes Accuracy: \n",
      "48.55 %\n"
     ]
    }
   ],
   "source": [
    "from sklearn.naive_bayes import GaussianNB\n",
    "nb=GaussianNB()\n",
    "nb.fit(x_train,y_train)\n",
    "nb_ypred=nb.predict(x_test)\n",
    "nb_acc = sklearn.metrics.accuracy_score(y_test,nb_ypred)\n",
    "print(\"Naive Bayes Accuracy: \")\n",
    "print(nb_acc*100,\"%\")"
   ]
  },
  {
   "cell_type": "markdown",
   "metadata": {
    "id": "kTpg7V_-bOfV"
   },
   "source": [
    "### **Stochastic Gradient Descent**\n",
    "\n",
    "Stochastic Gradient Descent is particularly useful when the sample data is in a large number. It supports different loss functions and penalties for classification. It refers to calculating the derivative from each training data instance and calculating the update immediately and it also iteratively makes small adjustments to a machine learning network configuration to decrease the error of the network."
   ]
  },
  {
   "cell_type": "code",
   "execution_count": 20,
   "metadata": {
    "colab": {
     "base_uri": "https://localhost:8080/"
    },
    "id": "iedv4kItZ6Mj",
    "outputId": "47a74a0d-03a0-46d3-d8e5-494f6463ac86"
   },
   "outputs": [
    {
     "name": "stdout",
     "output_type": "stream",
     "text": [
      "Stochastic Gradient Descent Accuracy: \n",
      "66.64999999999999 %\n"
     ]
    }
   ],
   "source": [
    "from sklearn.linear_model import SGDClassifier\n",
    "sgd=SGDClassifier(loss='modified_huber',shuffle=True, random_state=15)\n",
    "sgd.fit(x_train,y_train)\n",
    "sgd_ypred=sgd.predict(x_test)\n",
    "sgd_acc = sklearn.metrics.accuracy_score(y_test,sgd_ypred)\n",
    "print(\"Stochastic Gradient Descent Accuracy: \")\n",
    "print(sgd_acc*100,\"%\")"
   ]
  },
  {
   "cell_type": "markdown",
   "metadata": {
    "id": "GzNvtDTlbk2g"
   },
   "source": [
    "### **K-Nearest Neighbour**\n",
    "\n",
    "Nearest-Neighbour based classification is a type of lazy learning as it does not attempt to construct a general internal model, but simply stores instances of the training data. Classification is computed from a simple majority vote of the 'k' nearest neighbours of each point."
   ]
  },
  {
   "cell_type": "code",
   "execution_count": 21,
   "metadata": {
    "colab": {
     "base_uri": "https://localhost:8080/"
    },
    "id": "vem-bwaBbkEG",
    "outputId": "8c12c4f8-dd3a-4069-b3da-92d4a95d8747"
   },
   "outputs": [
    {
     "name": "stdout",
     "output_type": "stream",
     "text": [
      "K-Nearest Neighbour Accuracy: \n",
      "73.175 %\n"
     ]
    }
   ],
   "source": [
    "from sklearn.neighbors import KNeighborsClassifier\n",
    "knn=KNeighborsClassifier(n_neighbors=3)\n",
    "knn.fit(x_train,y_train)\n",
    "knn_ypred=knn.predict(x_test)\n",
    "knn_acc = sklearn.metrics.accuracy_score(y_test,knn_ypred)\n",
    "print(\"K-Nearest Neighbour Accuracy: \")\n",
    "print(knn_acc*100,\"%\")"
   ]
  },
  {
   "cell_type": "markdown",
   "metadata": {
    "id": "d6c7orCgcQ9A"
   },
   "source": [
    "### **Decision Tree**\n",
    "\n",
    "Decision Tree builds models in the form of a tree structure. It classifies data into finer and finer categories: from tree trunk to branches to leaves. It uses the if-then rule of mathematics to create sub-categories that fit into broader categories and allows for precise, organic categorization."
   ]
  },
  {
   "cell_type": "code",
   "execution_count": 22,
   "metadata": {
    "colab": {
     "base_uri": "https://localhost:8080/"
    },
    "id": "zUXOztBqcIQV",
    "outputId": "eb4d593a-0877-496e-817e-a22df00d0c8a"
   },
   "outputs": [
    {
     "name": "stdout",
     "output_type": "stream",
     "text": [
      "Decision Tree Accuracy: \n",
      "72.225 %\n"
     ]
    }
   ],
   "source": [
    "from sklearn.tree import DecisionTreeClassifier\n",
    "#Note: tweak values for max acc\n",
    "dtree=DecisionTreeClassifier(max_depth=40,random_state=18,max_features=None, min_samples_leaf=8)\n",
    "dtree.fit(x_train,y_train)\n",
    "dtree_ypred=dtree.predict(x_test)\n",
    "dtree_acc = sklearn.metrics.accuracy_score(y_test,dtree_ypred)\n",
    "print(\"Decision Tree Accuracy: \")\n",
    "print(dtree_acc*100,\"%\")"
   ]
  },
  {
   "cell_type": "markdown",
   "metadata": {
    "id": "tdkGuHsTdFZR"
   },
   "source": [
    "### **Random Forest** \n",
    "\n",
    "Random decision trees or random forest are an ensemble learning method for classification, regression, etc.  meaning that a random forest model is made up of a large number of small decision trees, called estimators, which each produce their own predictions. The random forest model combines the predictions of the estimators to produce a more accurate prediction."
   ]
  },
  {
   "cell_type": "code",
   "execution_count": 23,
   "metadata": {
    "colab": {
     "base_uri": "https://localhost:8080/"
    },
    "id": "9jMjEb9CdAaV",
    "outputId": "af9531db-1ac8-46ed-8040-677f206142fb"
   },
   "outputs": [
    {
     "name": "stdout",
     "output_type": "stream",
     "text": [
      "Random Forest Accuracy: \n",
      "73.25 %\n"
     ]
    }
   ],
   "source": [
    "from sklearn.ensemble import RandomForestClassifier\n",
    "rfm=RandomForestClassifier(n_estimators=75,oob_score=True,n_jobs=-1, random_state=20,max_features=None,min_samples_leaf=2)\n",
    "rfm.fit(x_train,y_train)\n",
    "rfm_ypred=rfm.predict(x_test)\n",
    "rfm_acc = sklearn.metrics.accuracy_score(y_test,rfm_ypred)\n",
    "print(\"Random Forest Accuracy: \")\n",
    "print(rfm_acc*100,\"%\")"
   ]
  },
  {
   "cell_type": "markdown",
   "metadata": {
    "id": "mTGyQ9YKd5AW"
   },
   "source": [
    "### **Support Vector Machine**\n",
    "\n",
    "Support vector machine is a classifier that represents the training data as points in space separated into categories by a gap as wide as possible. New points are then added to space by predicting which category they fall into and which space they will belong to.\n",
    "\n"
   ]
  },
  {
   "cell_type": "code",
   "execution_count": 24,
   "metadata": {
    "colab": {
     "base_uri": "https://localhost:8080/"
    },
    "id": "DK4WRJNVd-pY",
    "outputId": "acf4fe6c-d885-4a20-c35d-479082ab46d5"
   },
   "outputs": [
    {
     "name": "stdout",
     "output_type": "stream",
     "text": [
      "Support Vector Machine Accuracy: \n",
      "70.625 %\n"
     ]
    }
   ],
   "source": [
    "from sklearn.svm import SVC \n",
    "svm=SVC(kernel=\"linear\",C=0.025,random_state=None)\n",
    "svm.fit(x_train,y_train)\n",
    "svm_ypred=svm.predict(x_test)\n",
    "svm_acc = sklearn.metrics.accuracy_score(y_test,svm_ypred)\n",
    "print(\"Support Vector Machine Accuracy: \")\n",
    "print(svm_acc*100,\"%\")"
   ]
  },
  {
   "cell_type": "markdown",
   "metadata": {
    "id": "aQIhxT8jweR8"
   },
   "source": [
    "## Confusion Matrix"
   ]
  },
  {
   "cell_type": "code",
   "execution_count": 25,
   "metadata": {
    "colab": {
     "base_uri": "https://localhost:8080/"
    },
    "id": "M-Arp843tV-8",
    "outputId": "b4115afd-8dc4-4329-8371-893ff8c60f0a"
   },
   "outputs": [
    {
     "name": "stdout",
     "output_type": "stream",
     "text": [
      "For Logistic Regression\n",
      "Confusion Matrix: \n",
      "[[2298   90]\n",
      " [1002  610]]\n",
      "Accuracy Score:  0.727\n",
      "Precision Score:  0.8714285714285714\n",
      "Recall Score:  0.3784119106699752\n",
      "F1 Score:  0.527681660899654\n"
     ]
    }
   ],
   "source": [
    "# Logistic Regression\n",
    "\n",
    "cm_lr = confusion_matrix(y_test, lr_ypred)\n",
    "print('For Logistic Regression')\n",
    "print('Confusion Matrix: ')\n",
    "print(cm_lr)\n",
    "acc_lr = accuracy_score(y_test, lr_ypred)\n",
    "pre_lr = precision_score(y_test, lr_ypred)\n",
    "rec_lr = recall_score(y_test, lr_ypred)\n",
    "f1_lr = f1_score(y_test, lr_ypred)\n",
    "print('Accuracy Score: ',acc_lr)\n",
    "print('Precision Score: ',pre_lr)\n",
    "print('Recall Score: ',rec_lr)\n",
    "print('F1 Score: ',f1_lr)"
   ]
  },
  {
   "cell_type": "code",
   "execution_count": 26,
   "metadata": {
    "colab": {
     "base_uri": "https://localhost:8080/"
    },
    "id": "rXwLlNSdxGkU",
    "outputId": "3dbf123d-2f5c-4918-95de-aa9361be518f"
   },
   "outputs": [
    {
     "name": "stdout",
     "output_type": "stream",
     "text": [
      "For Naive Bayes\n",
      "Confusion Matrix: \n",
      "[[ 364 2024]\n",
      " [  34 1578]]\n",
      "Accuracy Score:  0.4855\n",
      "Precision Score:  0.43808995002776235\n",
      "Recall Score:  0.9789081885856079\n",
      "F1 Score:  0.6052934407364786\n"
     ]
    }
   ],
   "source": [
    "# Naive Bayes\n",
    "\n",
    "cm_nb = confusion_matrix(y_test, nb_ypred)\n",
    "print('For Naive Bayes')\n",
    "print('Confusion Matrix: ')\n",
    "print(cm_nb)\n",
    "acc_nb = accuracy_score(y_test, nb_ypred)\n",
    "pre_nb = precision_score(y_test, nb_ypred)\n",
    "rec_nb = recall_score(y_test, nb_ypred)\n",
    "f1_nb = f1_score(y_test, nb_ypred)\n",
    "print('Accuracy Score: ',acc_nb)\n",
    "print('Precision Score: ',pre_nb)\n",
    "print('Recall Score: ',rec_nb)\n",
    "print('F1 Score: ',f1_nb)"
   ]
  },
  {
   "cell_type": "code",
   "execution_count": 27,
   "metadata": {
    "colab": {
     "base_uri": "https://localhost:8080/"
    },
    "id": "aArOdGnax5V_",
    "outputId": "59e98f6d-5bab-4569-8c58-0df0c11e7f38"
   },
   "outputs": [
    {
     "name": "stdout",
     "output_type": "stream",
     "text": [
      "For Stochastic Gradient Descent\n",
      "Confusion Matrix: \n",
      "[[1228 1160]\n",
      " [ 174 1438]]\n",
      "Accuracy Score:  0.6665\n",
      "Precision Score:  0.5535026943802925\n",
      "Recall Score:  0.892059553349876\n",
      "F1 Score:  0.6831353919239904\n"
     ]
    }
   ],
   "source": [
    "# Stochastic Gradient Descent\n",
    "\n",
    "cm_sgd = confusion_matrix(y_test, sgd_ypred)\n",
    "print('For Stochastic Gradient Descent')\n",
    "print('Confusion Matrix: ')\n",
    "print(cm_sgd)\n",
    "acc_sgd = accuracy_score(y_test, sgd_ypred)\n",
    "pre_sgd = precision_score(y_test, sgd_ypred)\n",
    "rec_sgd = recall_score(y_test, sgd_ypred)\n",
    "f1_sgd = f1_score(y_test, sgd_ypred)\n",
    "print('Accuracy Score: ',acc_sgd)\n",
    "print('Precision Score: ',pre_sgd)\n",
    "print('Recall Score: ',rec_sgd)\n",
    "print('F1 Score: ',f1_sgd)"
   ]
  },
  {
   "cell_type": "code",
   "execution_count": 28,
   "metadata": {
    "colab": {
     "base_uri": "https://localhost:8080/"
    },
    "id": "zet7Plb6x5ws",
    "outputId": "c336f454-f348-4e6e-f3a8-731f20765c0d"
   },
   "outputs": [
    {
     "name": "stdout",
     "output_type": "stream",
     "text": [
      "For KNN\n",
      "Confusion Matrix: \n",
      "[[2321   67]\n",
      " [1006  606]]\n",
      "Accuracy Score:  0.73175\n",
      "Precision Score:  0.9004457652303121\n",
      "Recall Score:  0.3759305210918114\n",
      "F1 Score:  0.5304157549234135\n"
     ]
    }
   ],
   "source": [
    "# KNN \n",
    "\n",
    "cm_knn = confusion_matrix(y_test, knn_ypred)\n",
    "print('For KNN')\n",
    "print('Confusion Matrix: ')\n",
    "print(cm_knn)\n",
    "acc_knn = accuracy_score(y_test, knn_ypred)\n",
    "pre_knn = precision_score(y_test, knn_ypred)\n",
    "rec_knn = recall_score(y_test, knn_ypred)\n",
    "f1_knn = f1_score(y_test, knn_ypred)\n",
    "print('Accuracy Score: ',acc_knn)\n",
    "print('Precision Score: ',pre_knn)\n",
    "print('Recall Score: ',rec_knn)\n",
    "print('F1 Score: ',f1_knn)"
   ]
  },
  {
   "cell_type": "code",
   "execution_count": 29,
   "metadata": {
    "colab": {
     "base_uri": "https://localhost:8080/"
    },
    "id": "eZRM-Nvix5_G",
    "outputId": "ae69563c-5795-4790-afcc-c75d935d3e73"
   },
   "outputs": [
    {
     "name": "stdout",
     "output_type": "stream",
     "text": [
      "For Decision Tree\n",
      "Confusion Matrix: \n",
      "[[2318   70]\n",
      " [1041  571]]\n",
      "Accuracy Score:  0.72225\n",
      "Precision Score:  0.890795631825273\n",
      "Recall Score:  0.3542183622828784\n",
      "F1 Score:  0.5068797159343097\n"
     ]
    }
   ],
   "source": [
    "# Decision Tree\n",
    "\n",
    "cm_dtree = confusion_matrix(y_test, dtree_ypred)\n",
    "print('For Decision Tree')\n",
    "print('Confusion Matrix: ')\n",
    "print(cm_dtree)\n",
    "acc_dtree = accuracy_score(y_test, dtree_ypred)\n",
    "pre_dtree = precision_score(y_test, dtree_ypred)\n",
    "rec_dtree = recall_score(y_test, dtree_ypred)\n",
    "f1_dtree = f1_score(y_test, dtree_ypred)\n",
    "print('Accuracy Score: ',acc_dtree)\n",
    "print('Precision Score: ',pre_dtree)\n",
    "print('Recall Score: ',rec_dtree)\n",
    "print('F1 Score: ',f1_dtree)"
   ]
  },
  {
   "cell_type": "code",
   "execution_count": 30,
   "metadata": {
    "colab": {
     "base_uri": "https://localhost:8080/"
    },
    "id": "Z74TLWhMx6KT",
    "outputId": "9df7562c-4fec-4a76-fd0a-01523c34fcbe"
   },
   "outputs": [
    {
     "name": "stdout",
     "output_type": "stream",
     "text": [
      "For Random Forest\n",
      "Confusion Matrix: \n",
      "[[2323   65]\n",
      " [1005  607]]\n",
      "Accuracy Score:  0.7325\n",
      "Precision Score:  0.9032738095238095\n",
      "Recall Score:  0.37655086848635233\n",
      "F1 Score:  0.531523642732049\n"
     ]
    }
   ],
   "source": [
    "# Random Forest\n",
    "\n",
    "cm_rfm = confusion_matrix(y_test, rfm_ypred)\n",
    "print('For Random Forest')\n",
    "print('Confusion Matrix: ')\n",
    "print(cm_rfm)\n",
    "acc_rfm = accuracy_score(y_test, rfm_ypred)\n",
    "pre_rfm = precision_score(y_test, rfm_ypred)\n",
    "rec_rfm = recall_score(y_test, rfm_ypred)\n",
    "f1_rfm = f1_score(y_test, rfm_ypred)\n",
    "print('Accuracy Score: ',acc_rfm)\n",
    "print('Precision Score: ',pre_rfm)\n",
    "print('Recall Score: ',rec_rfm)\n",
    "print('F1 Score: ',f1_rfm)"
   ]
  },
  {
   "cell_type": "code",
   "execution_count": 31,
   "metadata": {
    "colab": {
     "base_uri": "https://localhost:8080/"
    },
    "id": "nOQoLwBux6Q7",
    "outputId": "0c51194f-62a5-405f-c9d7-6b14b5b631de"
   },
   "outputs": [
    {
     "name": "stdout",
     "output_type": "stream",
     "text": [
      "For SVM\n",
      "Confusion Matrix: \n",
      "[[2263  125]\n",
      " [1050  562]]\n",
      "Accuracy Score:  0.70625\n",
      "Precision Score:  0.8180494905385735\n",
      "Recall Score:  0.34863523573200994\n",
      "F1 Score:  0.4889082209656373\n"
     ]
    }
   ],
   "source": [
    "# SVM\n",
    "\n",
    "cm_svm = confusion_matrix(y_test, svm_ypred)\n",
    "print('For SVM')\n",
    "print('Confusion Matrix: ')\n",
    "print(cm_svm)\n",
    "acc_svm = accuracy_score(y_test, svm_ypred)\n",
    "pre_svm = precision_score(y_test, svm_ypred)\n",
    "rec_svm = recall_score(y_test, svm_ypred)\n",
    "f1_svm = f1_score(y_test, svm_ypred)\n",
    "print('Accuracy Score: ',acc_svm)\n",
    "print('Precision Score: ',pre_svm)\n",
    "print('Recall Score: ',rec_svm)\n",
    "print('F1 Score: ',f1_svm)"
   ]
  },
  {
   "cell_type": "markdown",
   "metadata": {
    "id": "wHQ14cJz02r2"
   },
   "source": [
    "## Classification Report"
   ]
  },
  {
   "cell_type": "code",
   "execution_count": 32,
   "metadata": {
    "id": "ZOKZI-KDx6YL"
   },
   "outputs": [],
   "source": [
    "targetNames=['DGA', 'Normal']"
   ]
  },
  {
   "cell_type": "code",
   "execution_count": 33,
   "metadata": {
    "colab": {
     "base_uri": "https://localhost:8080/"
    },
    "id": "N8ro2daNx6hu",
    "outputId": "b7cda67f-bbae-495b-f521-8bf85841f6e6"
   },
   "outputs": [
    {
     "name": "stdout",
     "output_type": "stream",
     "text": [
      "For LR\n",
      "              precision    recall  f1-score   support\n",
      "\n",
      "         DGA       0.70      0.96      0.81      2388\n",
      "      Normal       0.87      0.38      0.53      1612\n",
      "\n",
      "    accuracy                           0.73      4000\n",
      "   macro avg       0.78      0.67      0.67      4000\n",
      "weighted avg       0.77      0.73      0.70      4000\n",
      "\n",
      "-----------------------------------------------------------------\n",
      "For Naive Bayes\n",
      "              precision    recall  f1-score   support\n",
      "\n",
      "         DGA       0.91      0.15      0.26      2388\n",
      "      Normal       0.44      0.98      0.61      1612\n",
      "\n",
      "    accuracy                           0.49      4000\n",
      "   macro avg       0.68      0.57      0.43      4000\n",
      "weighted avg       0.72      0.49      0.40      4000\n",
      "\n",
      "-----------------------------------------------------------------\n",
      "For SGD\n",
      "              precision    recall  f1-score   support\n",
      "\n",
      "         DGA       0.88      0.51      0.65      2388\n",
      "      Normal       0.55      0.89      0.68      1612\n",
      "\n",
      "    accuracy                           0.67      4000\n",
      "   macro avg       0.71      0.70      0.67      4000\n",
      "weighted avg       0.75      0.67      0.66      4000\n",
      "\n",
      "-----------------------------------------------------------------\n",
      "For KNN\n",
      "              precision    recall  f1-score   support\n",
      "\n",
      "         DGA       0.70      0.97      0.81      2388\n",
      "      Normal       0.90      0.38      0.53      1612\n",
      "\n",
      "    accuracy                           0.73      4000\n",
      "   macro avg       0.80      0.67      0.67      4000\n",
      "weighted avg       0.78      0.73      0.70      4000\n",
      "\n",
      "-----------------------------------------------------------------\n",
      "For Decision Tree\n",
      "              precision    recall  f1-score   support\n",
      "\n",
      "         DGA       0.69      0.97      0.81      2388\n",
      "      Normal       0.89      0.35      0.51      1612\n",
      "\n",
      "    accuracy                           0.72      4000\n",
      "   macro avg       0.79      0.66      0.66      4000\n",
      "weighted avg       0.77      0.72      0.69      4000\n",
      "\n",
      "For Random Forest\n",
      "              precision    recall  f1-score   support\n",
      "\n",
      "         DGA       0.70      0.97      0.81      2388\n",
      "      Normal       0.90      0.38      0.53      1612\n",
      "\n",
      "    accuracy                           0.73      4000\n",
      "   macro avg       0.80      0.67      0.67      4000\n",
      "weighted avg       0.78      0.73      0.70      4000\n",
      "\n",
      "For SVM\n",
      "              precision    recall  f1-score   support\n",
      "\n",
      "         DGA       0.68      0.95      0.79      2388\n",
      "      Normal       0.82      0.35      0.49      1612\n",
      "\n",
      "    accuracy                           0.71      4000\n",
      "   macro avg       0.75      0.65      0.64      4000\n",
      "weighted avg       0.74      0.71      0.67      4000\n",
      "\n"
     ]
    }
   ],
   "source": [
    "print('For LR')\n",
    "print(classification_report(y_test, lr_ypred, target_names=targetNames))\n",
    "print('-----------------------------------------------------------------')\n",
    "print('For Naive Bayes')\n",
    "print(classification_report(y_test, nb_ypred, target_names=targetNames))\n",
    "print('-----------------------------------------------------------------')\n",
    "print('For SGD')\n",
    "print(classification_report(y_test, sgd_ypred, target_names=targetNames))\n",
    "print('-----------------------------------------------------------------')\n",
    "print('For KNN')\n",
    "print(classification_report(y_test, knn_ypred, target_names=targetNames))\n",
    "print('-----------------------------------------------------------------')\n",
    "print('For Decision Tree')\n",
    "print(classification_report(y_test, dtree_ypred, target_names=targetNames))\n",
    "print('For Random Forest')\n",
    "print(classification_report(y_test, rfm_ypred, target_names=targetNames))\n",
    "print('For SVM')\n",
    "print(classification_report(y_test, svm_ypred, target_names=targetNames))"
   ]
  },
  {
   "cell_type": "markdown",
   "metadata": {
    "id": "xMBAaYAW2AKZ"
   },
   "source": [
    "## Heat Map"
   ]
  },
  {
   "cell_type": "code",
   "execution_count": 34,
   "metadata": {
    "colab": {
     "base_uri": "https://localhost:8080/",
     "height": 338
    },
    "id": "pKgT4DjRx6o9",
    "outputId": "5e40466d-0316-4365-9c13-61c5adc27d25"
   },
   "outputs": [
    {
     "name": "stdout",
     "output_type": "stream",
     "text": [
      "For Logistic Regression, Confusion Matrix: \n",
      "[[2298   90]\n",
      " [1002  610]]\n"
     ]
    },
    {
     "data": {
      "text/plain": [
       "<AxesSubplot:>"
      ]
     },
     "execution_count": 34,
     "metadata": {},
     "output_type": "execute_result"
    },
    {
     "data": {
      "image/png": "[encoded data removed]",
      "text/plain": [
       "<Figure size 432x288 with 2 Axes>"
      ]
     },
     "metadata": {
      "needs_background": "light"
     },
     "output_type": "display_data"
    }
   ],
   "source": [
    "# Logistic Regression\n",
    "\n",
    "clf_report_lr = classification_report(y_test, lr_ypred, target_names=targetNames, output_dict= True)\n",
    "cleaned_report_lr = {}\n",
    "\n",
    "cleaned_report_lr['DGA'] = clf_report_lr['DGA']\n",
    "cleaned_report_lr['Normal'] = clf_report_lr['Normal']\n",
    "\n",
    "print('For Logistic Regression, Confusion Matrix: ')\n",
    "print(cm_lr)\n",
    "sns.heatmap(pd.DataFrame(cleaned_report_lr), annot=True, vmax=1.0, cmap=\"BuPu\")"
   ]
  },
  {
   "cell_type": "code",
   "execution_count": 35,
   "metadata": {
    "colab": {
     "base_uri": "https://localhost:8080/",
     "height": 338
    },
    "id": "U2SKWySmx6vt",
    "outputId": "cd849378-492a-41a2-fd99-76c6500d1f23"
   },
   "outputs": [
    {
     "name": "stdout",
     "output_type": "stream",
     "text": [
      "For Naive Bayes, Confusion Matrix: \n",
      "[[ 364 2024]\n",
      " [  34 1578]]\n"
     ]
    },
    {
     "data": {
      "text/plain": [
       "<AxesSubplot:>"
      ]
     },
     "execution_count": 35,
     "metadata": {},
     "output_type": "execute_result"
    },
    {
     "data": {
      "image/png": "[encoded data removed]",
      "text/plain": [
       "<Figure size 432x288 with 2 Axes>"
      ]
     },
     "metadata": {
      "needs_background": "light"
     },
     "output_type": "display_data"
    }
   ],
   "source": [
    "# Naive Bayes\n",
    "\n",
    "clf_report_nb = classification_report(y_test, nb_ypred, target_names=targetNames, output_dict= True)\n",
    "cleaned_report_nb = {}\n",
    "\n",
    "cleaned_report_nb['DGA'] = clf_report_nb['DGA']\n",
    "cleaned_report_nb['Normal'] = clf_report_nb['Normal']\n",
    "\n",
    "\n",
    "print('For Naive Bayes, Confusion Matrix: ')\n",
    "print(cm_nb)\n",
    "sns.heatmap(pd.DataFrame(cleaned_report_nb), annot=True, vmax=1.0, cmap=\"BuPu\")"
   ]
  },
  {
   "cell_type": "code",
   "execution_count": 36,
   "metadata": {
    "colab": {
     "base_uri": "https://localhost:8080/",
     "height": 338
    },
    "id": "g53ZTyqox63D",
    "outputId": "1606d82c-6226-472a-fe70-5e75e89df3c9"
   },
   "outputs": [
    {
     "name": "stdout",
     "output_type": "stream",
     "text": [
      "For Stochastic Gradient Descent, Confusion Matrix: \n",
      "[[1228 1160]\n",
      " [ 174 1438]]\n"
     ]
    },
    {
     "data": {
      "text/plain": [
       "<AxesSubplot:>"
      ]
     },
     "execution_count": 36,
     "metadata": {},
     "output_type": "execute_result"
    },
    {
     "data": {
      "image/png": "[encoded data removed]",
      "text/plain": [
       "<Figure size 432x288 with 2 Axes>"
      ]
     },
     "metadata": {
      "needs_background": "light"
     },
     "output_type": "display_data"
    }
   ],
   "source": [
    "# Stochastic Gradient Descent\n",
    "\n",
    "clf_report_sgd = classification_report(y_test, sgd_ypred, target_names=targetNames, output_dict= True)\n",
    "cleaned_report_sgd = {}\n",
    "\n",
    "cleaned_report_sgd['DGA'] = clf_report_sgd['DGA']\n",
    "cleaned_report_sgd['Normal'] = clf_report_sgd['Normal']\n",
    "\n",
    "\n",
    "print('For Stochastic Gradient Descent, Confusion Matrix: ')\n",
    "print(cm_sgd)\n",
    "sns.heatmap(pd.DataFrame(cleaned_report_sgd), annot=True, vmax=1.0, cmap=\"BuPu\")"
   ]
  },
  {
   "cell_type": "code",
   "execution_count": 37,
   "metadata": {
    "colab": {
     "base_uri": "https://localhost:8080/",
     "height": 338
    },
    "id": "LvPTz6v0596s",
    "outputId": "6eb7c1bf-2c97-4b85-bb41-f156f54289d1"
   },
   "outputs": [
    {
     "name": "stdout",
     "output_type": "stream",
     "text": [
      "For KNN, Confusion Matrix: \n",
      "[[2321   67]\n",
      " [1006  606]]\n"
     ]
    },
    {
     "data": {
      "text/plain": [
       "<AxesSubplot:>"
      ]
     },
     "execution_count": 37,
     "metadata": {},
     "output_type": "execute_result"
    },
    {
     "data": {
      "image/png": "[encoded data removed]",
      "text/plain": [
       "<Figure size 432x288 with 2 Axes>"
      ]
     },
     "metadata": {
      "needs_background": "light"
     },
     "output_type": "display_data"
    }
   ],
   "source": [
    "# KNN\n",
    "\n",
    "clf_report_knn = classification_report(y_test, knn_ypred, target_names=targetNames, output_dict= True)\n",
    "cleaned_report_knn = {}\n",
    "\n",
    "cleaned_report_knn['DGA'] = clf_report_knn['DGA']\n",
    "cleaned_report_knn['Normal'] = clf_report_knn['Normal']\n",
    "\n",
    "print('For KNN, Confusion Matrix: ')\n",
    "print(cm_knn)\n",
    "sns.heatmap(pd.DataFrame(cleaned_report_knn), annot=True, vmax=1.0, cmap=\"BuPu\")"
   ]
  },
  {
   "cell_type": "code",
   "execution_count": 38,
   "metadata": {
    "colab": {
     "base_uri": "https://localhost:8080/",
     "height": 338
    },
    "id": "4BHOF37H5-Ca",
    "outputId": "40fddd18-9dea-4380-f116-7950c9deed8c"
   },
   "outputs": [
    {
     "name": "stdout",
     "output_type": "stream",
     "text": [
      "For Decision Tree, Confusion Matrix: \n",
      "[[2318   70]\n",
      " [1041  571]]\n"
     ]
    },
    {
     "data": {
      "text/plain": [
       "<AxesSubplot:>"
      ]
     },
     "execution_count": 38,
     "metadata": {},
     "output_type": "execute_result"
    },
    {
     "data": {
      "image/png": "[encoded data removed]",
      "text/plain": [
       "<Figure size 432x288 with 2 Axes>"
      ]
     },
     "metadata": {
      "needs_background": "light"
     },
     "output_type": "display_data"
    }
   ],
   "source": [
    "# Decision Tree\n",
    "\n",
    "clf_report_dtree = classification_report(y_test, dtree_ypred, target_names=targetNames, output_dict= True)\n",
    "cleaned_report_dtree = {}\n",
    "\n",
    "cleaned_report_dtree['DGA'] = clf_report_dtree['DGA']\n",
    "cleaned_report_dtree['Normal'] = clf_report_dtree['Normal']\n",
    "\n",
    "print('For Decision Tree, Confusion Matrix: ')\n",
    "print(cm_dtree)\n",
    "sns.heatmap(pd.DataFrame(cleaned_report_dtree), annot=True, vmax=1.0, cmap=\"BuPu\")"
   ]
  },
  {
   "cell_type": "code",
   "execution_count": 39,
   "metadata": {
    "colab": {
     "base_uri": "https://localhost:8080/",
     "height": 338
    },
    "id": "GoPeWUwo5-Ij",
    "outputId": "99b2e2ff-b205-4961-cca7-d603ac8a97ec"
   },
   "outputs": [
    {
     "name": "stdout",
     "output_type": "stream",
     "text": [
      "For Random Forest, Confusion Matrix: \n",
      "[[2323   65]\n",
      " [1005  607]]\n"
     ]
    },
    {
     "data": {
      "text/plain": [
       "<AxesSubplot:>"
      ]
     },
     "execution_count": 39,
     "metadata": {},
     "output_type": "execute_result"
    },
    {
     "data": {
      "image/png": "[encoded data removed]",
      "text/plain": [
       "<Figure size 432x288 with 2 Axes>"
      ]
     },
     "metadata": {
      "needs_background": "light"
     },
     "output_type": "display_data"
    }
   ],
   "source": [
    "# Random Forest\n",
    "\n",
    "clf_report_rfm = classification_report(y_test, rfm_ypred, target_names=targetNames, output_dict= True)\n",
    "cleaned_report_rfm = {}\n",
    "\n",
    "cleaned_report_rfm['DGA'] = clf_report_rfm['DGA']\n",
    "cleaned_report_rfm['Normal'] = clf_report_rfm['Normal']\n",
    "\n",
    "print('For Random Forest, Confusion Matrix: ')\n",
    "print(cm_rfm)\n",
    "sns.heatmap(pd.DataFrame(cleaned_report_rfm), annot=True, vmax=1.0, cmap=\"BuPu\")"
   ]
  },
  {
   "cell_type": "code",
   "execution_count": 40,
   "metadata": {
    "colab": {
     "base_uri": "https://localhost:8080/",
     "height": 338
    },
    "id": "0_QVmzdL5-O3",
    "outputId": "49770565-a0c7-4a73-83eb-2537127fbccb"
   },
   "outputs": [
    {
     "name": "stdout",
     "output_type": "stream",
     "text": [
      "For SVM, Confusion Matrix: \n",
      "[[2263  125]\n",
      " [1050  562]]\n"
     ]
    },
    {
     "data": {
      "text/plain": [
       "<AxesSubplot:>"
      ]
     },
     "execution_count": 40,
     "metadata": {},
     "output_type": "execute_result"
    },
    {
     "data": {
      "image/png": "[encoded data removed]",
      "text/plain": [
       "<Figure size 432x288 with 2 Axes>"
      ]
     },
     "metadata": {
      "needs_background": "light"
     },
     "output_type": "display_data"
    }
   ],
   "source": [
    "# SVM\n",
    "\n",
    "clf_report_svm = classification_report(y_test, svm_ypred, target_names=targetNames, output_dict= True)\n",
    "cleaned_report_svm = {}\n",
    "\n",
    "cleaned_report_svm['DGA'] = clf_report_svm['DGA']\n",
    "cleaned_report_svm['Normal'] = clf_report_svm['Normal']\n",
    "\n",
    "print('For SVM, Confusion Matrix: ')\n",
    "print(cm_svm)\n",
    "sns.heatmap(pd.DataFrame(cleaned_report_svm), annot=True, vmax=1.0, cmap=\"BuPu\")"
   ]
  },
  {
   "cell_type": "markdown",
   "metadata": {
    "id": "HraptCX_9vMn"
   },
   "source": [
    "## Visualization of Algorithm Evaluation Metrics"
   ]
  },
  {
   "cell_type": "code",
   "execution_count": 41,
   "metadata": {
    "id": "RyFKkS3b5-U5"
   },
   "outputs": [],
   "source": [
    "accuracies = {\"LR\": acc_lr,  \n",
    "             \"Naive\": acc_nb, \n",
    "             \"SGD\": acc_sgd,\n",
    "             \"KNN\": acc_knn, \n",
    "             \"DT\": acc_dtree,\n",
    "            \"RFM\": acc_rfm,\n",
    "            \"SVM\": acc_svm, \n",
    "             }\n",
    "\n",
    "precisions = {\"LR\": pre_lr,  \n",
    "             \"Naive\": pre_nb, \n",
    "             \"SGD\": pre_sgd,\n",
    "             \"KNN\": pre_knn, \n",
    "             \"DT\": pre_dtree,\n",
    "            \"RFM\": pre_rfm,\n",
    "            \"SVM\": pre_svm,\n",
    "             }\n",
    "\n",
    "recalls = {\"LR\": rec_lr,  \n",
    "             \"Naive\": rec_nb, \n",
    "             \"SGD\": rec_sgd,\n",
    "             \"KNN\": rec_knn, \n",
    "             \"DT\": rec_dtree,\n",
    "            \"RFM\": rec_rfm,\n",
    "            \"SVM\": rec_svm\n",
    "             }\n",
    "\n",
    "f1s = {\"LR\": f1_lr,  \n",
    "        \"Naive\": f1_nb, \n",
    "        \"SGD\": f1_sgd,\n",
    "        \"KNN\": f1_knn, \n",
    "        \"DT\": f1_dtree,\n",
    "      \"RFM\": f1_rfm,\n",
    "      \"SVM\": f1_svm\n",
    "        }"
   ]
  },
  {
   "cell_type": "code",
   "execution_count": 42,
   "metadata": {
    "colab": {
     "base_uri": "https://localhost:8080/"
    },
    "id": "qXjKFYz-5-bM",
    "outputId": "fd47d3ac-dcde-47dd-d6ad-518f5287a617"
   },
   "outputs": [
    {
     "name": "stdout",
     "output_type": "stream",
     "text": [
      "Classification models in descending order of Accuracy:\n"
     ]
    },
    {
     "data": {
      "text/plain": [
       "[('RFM', 0.7325),\n",
       " ('KNN', 0.73175),\n",
       " ('LR', 0.727),\n",
       " ('DT', 0.72225),\n",
       " ('SVM', 0.70625),\n",
       " ('SGD', 0.6665),\n",
       " ('Naive', 0.4855)]"
      ]
     },
     "execution_count": 42,
     "metadata": {},
     "output_type": "execute_result"
    }
   ],
   "source": [
    "print(\"Classification models in descending order of Accuracy:\")\n",
    "sorted(accuracies.items(), key=lambda x: x[1],reverse=True)"
   ]
  },
  {
   "cell_type": "code",
   "execution_count": 43,
   "metadata": {
    "colab": {
     "base_uri": "https://localhost:8080/",
     "height": 350
    },
    "id": "WdHh3B2W5-hY",
    "outputId": "54a44743-7f66-4840-9f4e-1038aea6fbd9"
   },
   "outputs": [
    {
     "data": {
      "image/png": "[encoded data removed]",
      "text/plain": [
       "<Figure size 576x360 with 1 Axes>"
      ]
     },
     "metadata": {
      "needs_background": "light"
     },
     "output_type": "display_data"
    }
   ],
   "source": [
    "lists = sorted(accuracies.items(), key=lambda x: x[1]*100) # sorted by key, return a list of tuples\n",
    "\n",
    "plt.figure(figsize=(8,5))\n",
    "plt.bar(*zip(*lists), color=\"coral\")\n",
    "plt.title('Classification Models vs Accuracy')\n",
    "plt.xlabel('Classification Models')\n",
    "plt.ylabel('Accuracy')\n",
    "plt.show()"
   ]
  },
  {
   "cell_type": "code",
   "execution_count": 44,
   "metadata": {
    "colab": {
     "base_uri": "https://localhost:8080/"
    },
    "id": "5xrj6u9a5-oA",
    "outputId": "ce4506c9-7790-4edb-fcf3-4668c7c4c116"
   },
   "outputs": [
    {
     "name": "stdout",
     "output_type": "stream",
     "text": [
      "Classification models in descending order of Precision:\n"
     ]
    },
    {
     "data": {
      "text/plain": [
       "[('RFM', 0.9032738095238095),\n",
       " ('KNN', 0.9004457652303121),\n",
       " ('DT', 0.890795631825273),\n",
       " ('LR', 0.8714285714285714),\n",
       " ('SVM', 0.8180494905385735),\n",
       " ('SGD', 0.5535026943802925),\n",
       " ('Naive', 0.43808995002776235)]"
      ]
     },
     "execution_count": 44,
     "metadata": {},
     "output_type": "execute_result"
    }
   ],
   "source": [
    "print(\"Classification models in descending order of Precision:\")\n",
    "sorted(precisions.items(), key=lambda x: x[1],reverse=True)"
   ]
  },
  {
   "cell_type": "code",
   "execution_count": 45,
   "metadata": {
    "colab": {
     "base_uri": "https://localhost:8080/",
     "height": 350
    },
    "id": "O95b0MlU8PzB",
    "outputId": "90cd0611-c770-4e19-a335-348d40e4349f"
   },
   "outputs": [
    {
     "data": {
      "image/png": "[encoded data removed]",
      "text/plain": [
       "<Figure size 576x360 with 1 Axes>"
      ]
     },
     "metadata": {
      "needs_background": "light"
     },
     "output_type": "display_data"
    }
   ],
   "source": [
    "lists = sorted(precisions.items(), key=lambda x: x[1]*100) # sorted by key, return a list of tuples\n",
    "\n",
    "plt.figure(figsize=(8,5))\n",
    "plt.bar(*zip(*lists), color=\"limegreen\")\n",
    "plt.ylim(0,1)\n",
    "plt.title('Classification Models vs Precision')\n",
    "plt.xlabel('Classification Models')\n",
    "plt.ylabel('Precision')\n",
    "plt.show()"
   ]
  },
  {
   "cell_type": "code",
   "execution_count": 46,
   "metadata": {
    "colab": {
     "base_uri": "https://localhost:8080/"
    },
    "id": "OtgDdHOv8QA5",
    "outputId": "7c79e748-6dc8-4243-e2fa-09e11de1365d"
   },
   "outputs": [
    {
     "name": "stdout",
     "output_type": "stream",
     "text": [
      "Classification models in descending order of Recall:\n"
     ]
    },
    {
     "data": {
      "text/plain": [
       "[('Naive', 0.9789081885856079),\n",
       " ('SGD', 0.892059553349876),\n",
       " ('LR', 0.3784119106699752),\n",
       " ('RFM', 0.37655086848635233),\n",
       " ('KNN', 0.3759305210918114),\n",
       " ('DT', 0.3542183622828784),\n",
       " ('SVM', 0.34863523573200994)]"
      ]
     },
     "execution_count": 46,
     "metadata": {},
     "output_type": "execute_result"
    }
   ],
   "source": [
    "print(\"Classification models in descending order of Recall:\")\n",
    "sorted(recalls.items(), key=lambda x: x[1],reverse=True)"
   ]
  },
  {
   "cell_type": "code",
   "execution_count": 47,
   "metadata": {
    "colab": {
     "base_uri": "https://localhost:8080/",
     "height": 350
    },
    "id": "jolwb4898QPA",
    "outputId": "7cc900f2-7fdd-4095-bdbf-5a2113f9c102"
   },
   "outputs": [
    {
     "data": {
      "image/png": "[encoded data removed]",
      "text/plain": [
       "<Figure size 576x360 with 1 Axes>"
      ]
     },
     "metadata": {
      "needs_background": "light"
     },
     "output_type": "display_data"
    }
   ],
   "source": [
    "lists = sorted(recalls.items(), key=lambda x: x[1]*100) # sorted by key, return a list of tuples\n",
    "\n",
    "plt.figure(figsize=(8,5))\n",
    "plt.bar(*zip(*lists), color=\"dodgerblue\")\n",
    "plt.ylim(0,1)\n",
    "plt.title('Classification Models vs Recall')\n",
    "plt.xlabel('Classification Models')\n",
    "plt.ylabel('Recall')\n",
    "plt.show()"
   ]
  },
  {
   "cell_type": "code",
   "execution_count": 48,
   "metadata": {
    "colab": {
     "base_uri": "https://localhost:8080/"
    },
    "id": "7c4kFVt58QfZ",
    "outputId": "a4108112-abf0-4798-e3e0-ae6724072e18"
   },
   "outputs": [
    {
     "name": "stdout",
     "output_type": "stream",
     "text": [
      "Classification models in descending order of F1:\n"
     ]
    },
    {
     "data": {
      "text/plain": [
       "[('SGD', 0.6831353919239904),\n",
       " ('Naive', 0.6052934407364786),\n",
       " ('RFM', 0.531523642732049),\n",
       " ('KNN', 0.5304157549234135),\n",
       " ('LR', 0.527681660899654),\n",
       " ('DT', 0.5068797159343097),\n",
       " ('SVM', 0.4889082209656373)]"
      ]
     },
     "execution_count": 48,
     "metadata": {},
     "output_type": "execute_result"
    }
   ],
   "source": [
    "print(\"Classification models in descending order of F1:\")\n",
    "sorted(f1s.items(), key=lambda x: x[1],reverse=True)"
   ]
  },
  {
   "cell_type": "code",
   "execution_count": 49,
   "metadata": {
    "colab": {
     "base_uri": "https://localhost:8080/",
     "height": 350
    },
    "id": "LpOhcPx05-uL",
    "outputId": "9cc51a62-3c45-4d35-e568-cb40525a9c42"
   },
   "outputs": [
    {
     "data": {
      "image/png": "[encoded data removed]",
      "text/plain": [
       "<Figure size 576x360 with 1 Axes>"
      ]
     },
     "metadata": {
      "needs_background": "light"
     },
     "output_type": "display_data"
    }
   ],
   "source": [
    "lists = sorted(f1s.items(), key=lambda x: x[1]*100) # sorted by key, return a list of tuples\n",
    "\n",
    "plt.figure(figsize=(8,5))\n",
    "plt.bar(*zip(*lists), color=\"darkmagenta\")\n",
    "plt.ylim(0,1)\n",
    "plt.title('Classification Models vs F1')\n",
    "plt.xlabel('Classification Models')\n",
    "plt.ylabel('F1')\n",
    "plt.show()"
   ]
  },
  {
   "cell_type": "markdown",
   "metadata": {
    "id": "kXwH9Hd4n95r"
   },
   "source": [
    "### Save the model as a .h5 file\n",
    "\n",
    "Since this model has the highest accuracy, we will be using this for the prediction during the deployment of our application."
   ]
  },
  {
   "cell_type": "code",
   "execution_count": 50,
   "metadata": {
    "colab": {
     "base_uri": "https://localhost:8080/"
    },
    "id": "s_UwgVoiIzpa",
    "outputId": "ed0c08ef-43a0-4531-957b-a31cc6c212cd"
   },
   "outputs": [],
   "source": [
    "#Using a Logistic Regression Model\n",
    "model = LogisticRegression()\n",
    "log_reg = model.fit(x_train,y_train)\n",
    "logRegre_ypred= model.predict(x_test)"
   ]
  },
  {
   "cell_type": "code",
   "execution_count": 51,
   "metadata": {
    "id": "nsMHOb7jnZp6"
   },
   "outputs": [],
   "source": [
    "from keras.models import load_model\n",
    "import pickle\n",
    "\n",
    "pickle.dump(model, open(\"dga_botnet.h5\", 'wb'))\n",
    "with open('vectorizer_lr', 'wb') as fin:\n",
    "    pickle.dump(model, fin)"
   ]
  },
  {
   "cell_type": "markdown",
   "metadata": {},
   "source": [
    "## Deep Learning Classifiers"
   ]
  },
  {
   "cell_type": "markdown",
   "metadata": {
    "id": "UPYCv24RkXZ0"
   },
   "source": [
    "### **Artificial Neural Networks (ANN)**\n",
    "\n",
    "A neural network has many layers and each layer performs a specific function, and as the complexity of the model increases, the number of layers also increases that why it is known as the multi-layer perceptron.The purest form of a neural network has three layers input layer, the hidden layer, and the output layer. The input layer picks up the input signals and transfers them to the next layer and finally, the output layer gives the final prediction and these neural networks have to be trained with some training data as well like machine learning algorithms before providing a particular problem. "
   ]
  },
  {
   "cell_type": "code",
   "execution_count": 52,
   "metadata": {
    "scrolled": true
   },
   "outputs": [
    {
     "name": "stdout",
     "output_type": "stream",
     "text": [
      "Epoch 1/10\n",
      "500/500 [==============================] - 5s 3ms/step - loss: 0.6072 - accuracy: 0.6146\n",
      "Epoch 2/10\n",
      "500/500 [==============================] - 1s 3ms/step - loss: 0.5571 - accuracy: 0.6533\n",
      "Epoch 3/10\n",
      "500/500 [==============================] - 1s 3ms/step - loss: 0.5274 - accuracy: 0.6884\n",
      "Epoch 4/10\n",
      "500/500 [==============================] - 1s 3ms/step - loss: 0.5003 - accuracy: 0.7172\n",
      "Epoch 5/10\n",
      "500/500 [==============================] - 1s 3ms/step - loss: 0.4906 - accuracy: 0.7194\n",
      "Epoch 6/10\n",
      "500/500 [==============================] - 1s 3ms/step - loss: 0.4867 - accuracy: 0.7228\n",
      "Epoch 7/10\n",
      "500/500 [==============================] - 1s 3ms/step - loss: 0.4842 - accuracy: 0.7232\n",
      "Epoch 8/10\n",
      "500/500 [==============================] - 1s 3ms/step - loss: 0.4828 - accuracy: 0.7258\n",
      "Epoch 9/10\n",
      "500/500 [==============================] - 1s 3ms/step - loss: 0.4814 - accuracy: 0.7257\n",
      "Epoch 10/10\n",
      "500/500 [==============================] - 1s 3ms/step - loss: 0.4809 - accuracy: 0.7268\n",
      "500/500 [==============================] - 2s 2ms/step - loss: 0.4789 - accuracy: 0.7269\n",
      "ANN Model Accuracy: \n",
      "72.68750071525574 %\n"
     ]
    }
   ],
   "source": [
    "from keras.layers import *\n",
    "ann_model = Sequential()\n",
    "ann_model.add(Dense(units=8,activation='relu'))\n",
    "ann_model.add(Dense(units=8,activation='relu'))\n",
    "ann_model.add(Dense(units=8,activation='relu'))\n",
    "ann_model.add(Dense(units=8,activation='relu'))\n",
    "ann_model.add(Dense(units=8,activation='relu'))\n",
    "ann_model.add(Dense(units=8,activation='relu'))\n",
    "ann_model.add(Dense(units=8,activation='relu'))\n",
    "ann_model.add(Dense(units=8,activation='relu'))\n",
    "ann_model.add(Dense(units=1,activation='sigmoid'))\n",
    "ann_model.compile(optimizer='rmsprop',loss='binary_crossentropy',metrics=['accuracy'])\n",
    "ann_model.fit(x_train,y_train.astype(str).astype(int),batch_size=32,epochs=10)\n",
    "acc= ann_model.evaluate(x_train, y_train.astype(str).astype(int))\n",
    "ann_ypred=ann_model.predict(x_test)\n",
    "print(\"ANN Model Accuracy: \")\n",
    "ann_acc=acc[1]\n",
    "print(ann_acc*100,\"%\")"
   ]
  },
  {
   "cell_type": "code",
   "execution_count": 53,
   "metadata": {},
   "outputs": [
    {
     "name": "stdout",
     "output_type": "stream",
     "text": [
      "For ANN\n",
      "Confusion Matrix: \n",
      "[[2303   85]\n",
      " [1010  602]]\n",
      "Accuracy Score:  0.72625\n",
      "Precision Score:  0.87627365356623\n",
      "Recall Score:  0.37344913151364767\n",
      "F1 Score:  0.5237059591126576\n",
      "Specificity:  0.37344913151364767\n"
     ]
    }
   ],
   "source": [
    "# ANN\n",
    "a= ann_ypred>0.5\n",
    "a = a.astype('uint8')\n",
    "cm_ann = confusion_matrix(y_test, a)\n",
    "print('For ANN')\n",
    "print('Confusion Matrix: ')\n",
    "print(cm_ann)\n",
    "acc_ann = accuracy_score(y_test, a)\n",
    "pre_ann = precision_score(y_test, a)\n",
    "rec_ann = recall_score(y_test, a)\n",
    "f1_ann = f1_score(y_test, a)\n",
    "spec_ann = cm_ann[1,1]/(cm_ann[1,0]+cm_ann[1,1])\n",
    "print('Accuracy Score: ',acc_ann)\n",
    "print('Precision Score: ',pre_ann)\n",
    "print('Recall Score: ',rec_ann)\n",
    "print('F1 Score: ',f1_ann)\n",
    "print('Specificity: ', spec_ann)"
   ]
  },
  {
   "cell_type": "markdown",
   "metadata": {},
   "source": [
    "#### Additional reshaping for CNN and LSTM"
   ]
  },
  {
   "cell_type": "code",
   "execution_count": 54,
   "metadata": {},
   "outputs": [],
   "source": [
    "x_train = np.random.uniform(0,1, (16000,200))\n",
    "y_train = np.random.randint(0,2, 16000)\n",
    "\n",
    "x_train = np.expand_dims(x_train, axis=1)\n",
    "x_test = np.expand_dims(x_test, axis=1)"
   ]
  },
  {
   "cell_type": "markdown",
   "metadata": {},
   "source": [
    "### Convolutional Neural Networks (CNN)\n",
    "\n",
    "Convolutional neural network is a class of deep neural networks, most commonly applied to analyze visual imagery. It uses a special technique called Convolution which is a mathematical operation on two functions that produces a third function that expresses how the shape of one is modified by the other."
   ]
  },
  {
   "cell_type": "code",
   "execution_count": 55,
   "metadata": {
    "scrolled": true
   },
   "outputs": [
    {
     "name": "stdout",
     "output_type": "stream",
     "text": [
      "Epoch 1/10\n",
      "500/500 [==============================] - 4s 5ms/step - loss: 0.6961 - accuracy: 0.5049\n",
      "Epoch 2/10\n",
      "500/500 [==============================] - 3s 5ms/step - loss: 0.6936 - accuracy: 0.5049\n",
      "Epoch 3/10\n",
      "500/500 [==============================] - 3s 5ms/step - loss: 0.6936 - accuracy: 0.5049\n",
      "Epoch 4/10\n",
      "500/500 [==============================] - 3s 5ms/step - loss: 0.6932 - accuracy: 0.5049\n",
      "Epoch 5/10\n",
      "500/500 [==============================] - 3s 5ms/step - loss: 0.6932 - accuracy: 0.5049\n",
      "Epoch 6/10\n",
      "500/500 [==============================] - 3s 5ms/step - loss: 0.6934 - accuracy: 0.5049\n",
      "Epoch 7/10\n",
      "500/500 [==============================] - 3s 5ms/step - loss: 0.6933 - accuracy: 0.5049\n",
      "Epoch 8/10\n",
      "500/500 [==============================] - 3s 5ms/step - loss: 0.6932 - accuracy: 0.5049\n",
      "Epoch 9/10\n",
      "500/500 [==============================] - 3s 5ms/step - loss: 0.6932 - accuracy: 0.5049\n",
      "Epoch 10/10\n",
      "500/500 [==============================] - 3s 6ms/step - loss: 0.6931 - accuracy: 0.5049\n",
      "500/500 [==============================] - 2s 3ms/step - loss: 0.6931 - accuracy: 0.5049\n",
      "CNN Model Accuracy: \n",
      "50.48750042915344 %\n"
     ]
    }
   ],
   "source": [
    "inp = Input(shape=(1,200))\n",
    "conv2 = Conv1D(filters=128, kernel_size=5, activation='relu', padding='same')(inp)\n",
    "drop21 = Dropout(0.5)(conv2)\n",
    "conv22 = Conv1D(filters=64, kernel_size=5, activation='relu', padding='same')(drop21)\n",
    "drop22 = Dropout(0.5)(conv22)\n",
    "pool2 = Flatten()(drop22)\n",
    "out = Dense(1, activation='softmax')(pool2)\n",
    "cnn_model = Model(inp, out)\n",
    "cnn_model.compile(loss='binary_crossentropy', optimizer='rmsprop', metrics=['accuracy'])\n",
    "history = cnn_model.fit(x_train, y_train, epochs=10)\n",
    "acc= cnn_model.evaluate(x_train, y_train)\n",
    "cnn_ypred=cnn_model.predict(x_test)\n",
    "print(\"CNN Model Accuracy: \")\n",
    "cnn_acc=acc[1]\n",
    "print(cnn_acc*100,\"%\")"
   ]
  },
  {
   "cell_type": "markdown",
   "metadata": {},
   "source": [
    "### Bidirectional Long Short-Term Memory \n",
    "\n",
    "Bidirectional long-short term memory is the process of making any neural network have the sequence information in both directions backwards (future to past) or forward (past to future). In bidirectional, input flows in two directions, making a bi-lstm different from the regular LSTM.\n"
   ]
  },
  {
   "cell_type": "code",
   "execution_count": 56,
   "metadata": {
    "scrolled": true
   },
   "outputs": [
    {
     "name": "stdout",
     "output_type": "stream",
     "text": [
      "Model: \"sequential_1\"\n",
      "_________________________________________________________________\n",
      "Layer (type)                 Output Shape              Param #   \n",
      "=================================================================\n",
      "bidirectional (Bidirectional (None, 200)               240800    \n",
      "_________________________________________________________________\n",
      "dropout_2 (Dropout)          (None, 200)               0         \n",
      "_________________________________________________________________\n",
      "dense_10 (Dense)             (None, 1)                 201       \n",
      "=================================================================\n",
      "Total params: 241,001\n",
      "Trainable params: 241,001\n",
      "Non-trainable params: 0\n",
      "_________________________________________________________________\n",
      "None\n",
      "Epoch 1/10\n",
      "250/250 [==============================] - 12s 16ms/step - loss: 0.6964 - accuracy: 0.4955 - val_loss: 0.6935 - val_accuracy: 0.4187\n",
      "Epoch 2/10\n",
      "250/250 [==============================] - 2s 8ms/step - loss: 0.6936 - accuracy: 0.5052 - val_loss: 0.6925 - val_accuracy: 0.5520\n",
      "Epoch 3/10\n",
      "250/250 [==============================] - 2s 8ms/step - loss: 0.6928 - accuracy: 0.5121 - val_loss: 0.6940 - val_accuracy: 0.3943\n",
      "Epoch 4/10\n",
      "250/250 [==============================] - 2s 8ms/step - loss: 0.6925 - accuracy: 0.5155 - val_loss: 0.6936 - val_accuracy: 0.4200\n",
      "Epoch 5/10\n",
      "250/250 [==============================] - 2s 8ms/step - loss: 0.6919 - accuracy: 0.5187 - val_loss: 0.6932 - val_accuracy: 0.5023\n",
      "Epoch 6/10\n",
      "250/250 [==============================] - 2s 8ms/step - loss: 0.6930 - accuracy: 0.5163 - val_loss: 0.6933 - val_accuracy: 0.4742\n",
      "Epoch 7/10\n",
      "250/250 [==============================] - 2s 8ms/step - loss: 0.6917 - accuracy: 0.5282 - val_loss: 0.6917 - val_accuracy: 0.6137\n",
      "Epoch 8/10\n",
      "250/250 [==============================] - 2s 8ms/step - loss: 0.6907 - accuracy: 0.5270 - val_loss: 0.6935 - val_accuracy: 0.4543\n",
      "Epoch 9/10\n",
      "250/250 [==============================] - 2s 8ms/step - loss: 0.6900 - accuracy: 0.5322 - val_loss: 0.6937 - val_accuracy: 0.4622\n",
      "Epoch 10/10\n",
      "250/250 [==============================] - 2s 8ms/step - loss: 0.6898 - accuracy: 0.5324 - val_loss: 0.6929 - val_accuracy: 0.4545\n",
      "500/500 [==============================] - 4s 5ms/step - loss: 0.6858 - accuracy: 0.5576\n",
      "LSTM Model Accuracy: \n",
      "55.76249957084656 %\n"
     ]
    }
   ],
   "source": [
    "lstm_model=Sequential()\n",
    "lstm_model.add(Bidirectional(LSTM(100, return_sequences=False), input_shape=(1, 200)))\n",
    "lstm_model.add(Dropout(0.3))\n",
    "lstm_model.add(Dense(1, activation='sigmoid'))\n",
    "lstm_model.compile(loss='binary_crossentropy',optimizer='adam',metrics=['accuracy'])\n",
    "print(lstm_model.summary())\n",
    "lstm_model.fit(x_train,y_train,validation_data=(x_test,y_test),epochs=10,batch_size=64)\n",
    "acc= lstm_model.evaluate(x_train, y_train)\n",
    "print(\"LSTM Model Accuracy: \")\n",
    "lstm_ypred=lstm_model.predict(x_test)\n",
    "lstm_acc=acc[1]\n",
    "print(lstm_acc*100,\"%\")"
   ]
  },
  {
   "cell_type": "markdown",
   "metadata": {},
   "source": [
    "## Recurrent Neural Networks (RNN)\n",
    "\n",
    "A recurrent neural network is a type of artificial neural network which uses sequential data or time series data. Recurrent neural networks utilize training data to learn. They are distinguished by their “memory” as they take information from prior inputs to influence the current input and output. The output of recurrent neural networks depend on the prior elements within the sequence. "
   ]
  },
  {
   "cell_type": "code",
   "execution_count": 57,
   "metadata": {
    "scrolled": true
   },
   "outputs": [
    {
     "name": "stdout",
     "output_type": "stream",
     "text": [
      "Model: \"model_1\"\n",
      "_________________________________________________________________\n",
      "Layer (type)                 Output Shape              Param #   \n",
      "=================================================================\n",
      "input_2 (InputLayer)         [(None, 1, 200)]          0         \n",
      "_________________________________________________________________\n",
      "rnn (RNN)                    (None, 4)                 820       \n",
      "_________________________________________________________________\n",
      "dense_11 (Dense)             (None, 1)                 5         \n",
      "=================================================================\n",
      "Total params: 825\n",
      "Trainable params: 825\n",
      "Non-trainable params: 0\n",
      "_________________________________________________________________\n",
      "Epoch 1/10\n",
      "500/500 [==============================] - 4s 3ms/step - loss: 0.7009 - accuracy: 0.4988\n",
      "Epoch 2/10\n",
      "500/500 [==============================] - 1s 3ms/step - loss: 0.6939 - accuracy: 0.5062\n",
      "Epoch 3/10\n",
      "500/500 [==============================] - 1s 3ms/step - loss: 0.6930 - accuracy: 0.5119\n",
      "Epoch 4/10\n",
      "500/500 [==============================] - 1s 3ms/step - loss: 0.6921 - accuracy: 0.5174\n",
      "Epoch 5/10\n",
      "500/500 [==============================] - 1s 3ms/step - loss: 0.6915 - accuracy: 0.5165\n",
      "Epoch 6/10\n",
      "500/500 [==============================] - 1s 3ms/step - loss: 0.6903 - accuracy: 0.5283\n",
      "Epoch 7/10\n",
      "500/500 [==============================] - 1s 3ms/step - loss: 0.6895 - accuracy: 0.5228\n",
      "Epoch 8/10\n",
      "500/500 [==============================] - 1s 3ms/step - loss: 0.6886 - accuracy: 0.5318\n",
      "Epoch 9/10\n",
      "500/500 [==============================] - 1s 3ms/step - loss: 0.6884 - accuracy: 0.5299\n",
      "Epoch 10/10\n",
      "500/500 [==============================] - 1s 3ms/step - loss: 0.6876 - accuracy: 0.5362\n",
      "500/500 [==============================] - 2s 2ms/step - loss: 0.6848 - accuracy: 0.5401\n",
      "RNN Model Accuracy: \n",
      "54.00624871253967 %\n"
     ]
    }
   ],
   "source": [
    "x = layers.Input(shape=(1, 200))\n",
    "cell = layers.SimpleRNNCell(4, activation='tanh')  \n",
    "rnn = layers.RNN(cell)\n",
    "rnn_output = rnn(x)\n",
    "output = Dense(units=1, activation='sigmoid')(rnn_output)\n",
    "rnn_model = Model(inputs=x, outputs=output)\n",
    "rnn_model.compile(loss=\"binary_crossentropy\", metrics=[\"accuracy\"])\n",
    "rnn_model.summary()\n",
    "H = rnn_model.fit(x_train, y_train, epochs=10)\n",
    "acc= rnn_model.evaluate(x_train, y_train)\n",
    "print(\"RNN Model Accuracy: \")\n",
    "rnn_ypred=rnn_model.predict(x_test)\n",
    "rnn_acc=acc[1]\n",
    "print(rnn_acc*100,\"%\")"
   ]
  },
  {
   "cell_type": "markdown",
   "metadata": {},
   "source": [
    "# Confusion Matrix"
   ]
  },
  {
   "cell_type": "code",
   "execution_count": 58,
   "metadata": {},
   "outputs": [
    {
     "data": {
      "text/plain": [
       "array([1])"
      ]
     },
     "execution_count": 58,
     "metadata": {},
     "output_type": "execute_result"
    }
   ],
   "source": [
    "c= cnn_ypred.astype(int)\n",
    "np.unique(np.array(c))"
   ]
  },
  {
   "cell_type": "code",
   "execution_count": 59,
   "metadata": {},
   "outputs": [
    {
     "name": "stdout",
     "output_type": "stream",
     "text": [
      "For CNN\n",
      "Confusion Matrix: \n",
      "[[   0 2388]\n",
      " [   0 1612]]\n",
      "Accuracy Score:  0.403\n",
      "Precision Score:  0.403\n",
      "Recall Score:  1.0\n",
      "F1 Score:  0.5744832501781896\n",
      "Specificity:  1.0\n"
     ]
    }
   ],
   "source": [
    "# CNN\n",
    "cm_cnn = confusion_matrix(y_test, c)\n",
    "print('For CNN')\n",
    "print('Confusion Matrix: ')\n",
    "print(cm_cnn)\n",
    "acc_cnn = accuracy_score(y_test, c)\n",
    "pre_cnn = precision_score(y_test, c)\n",
    "rec_cnn = recall_score(y_test, c)\n",
    "f1_cnn = f1_score(y_test, c)\n",
    "spec_cnn = cm_cnn[1,1]/(cm_cnn[1,0]+cm_cnn[1,1])\n",
    "print('Accuracy Score: ',acc_cnn)\n",
    "print('Precision Score: ',pre_cnn)\n",
    "print('Recall Score: ',rec_cnn)\n",
    "print('F1 Score: ',f1_cnn)\n",
    "print('Specificity: ', spec_cnn)"
   ]
  },
  {
   "cell_type": "code",
   "execution_count": 60,
   "metadata": {},
   "outputs": [],
   "source": [
    "l= lstm_ypred>0.5\n",
    "l = l.astype('uint8')"
   ]
  },
  {
   "cell_type": "code",
   "execution_count": 61,
   "metadata": {},
   "outputs": [
    {
     "name": "stdout",
     "output_type": "stream",
     "text": [
      "For LSTM\n",
      "Confusion Matrix: \n",
      "[[1349 1039]\n",
      " [1143  469]]\n",
      "Accuracy Score:  0.4545\n",
      "Precision Score:  0.3110079575596817\n",
      "Recall Score:  0.29094292803970223\n",
      "F1 Score:  0.3006410256410256\n",
      "Specificity:  0.29094292803970223\n"
     ]
    }
   ],
   "source": [
    "# LSTM\n",
    "cm_lstm = confusion_matrix(y_test, l)\n",
    "print('For LSTM')\n",
    "print('Confusion Matrix: ')\n",
    "print(cm_lstm)\n",
    "acc_lstm = accuracy_score(y_test, l)\n",
    "pre_lstm = precision_score(y_test, l)\n",
    "rec_lstm = recall_score(y_test, l)\n",
    "f1_lstm = f1_score(y_test, l)\n",
    "spec_lstm = cm_lstm[1,1]/(cm_lstm[1,0]+cm_lstm[1,1])\n",
    "print('Accuracy Score: ',acc_lstm)\n",
    "print('Precision Score: ',pre_lstm)\n",
    "print('Recall Score: ',rec_lstm)\n",
    "print('F1 Score: ',f1_lstm)\n",
    "print('Specificity: ', spec_lstm)"
   ]
  },
  {
   "cell_type": "code",
   "execution_count": 62,
   "metadata": {},
   "outputs": [
    {
     "data": {
      "text/plain": [
       "array([[0],\n",
       "       [0],\n",
       "       [0],\n",
       "       ...,\n",
       "       [0],\n",
       "       [0],\n",
       "       [0]], dtype=uint8)"
      ]
     },
     "execution_count": 62,
     "metadata": {},
     "output_type": "execute_result"
    }
   ],
   "source": [
    "r= rnn_ypred>0.5\n",
    "r = r.astype('uint8')\n",
    "r"
   ]
  },
  {
   "cell_type": "code",
   "execution_count": 63,
   "metadata": {},
   "outputs": [
    {
     "name": "stdout",
     "output_type": "stream",
     "text": [
      "For RNN\n",
      "Confusion Matrix: \n",
      "[[2025  363]\n",
      " [1294  318]]\n",
      "Accuracy Score:  0.58575\n",
      "Precision Score:  0.4669603524229075\n",
      "Recall Score:  0.19727047146401985\n",
      "F1 Score:  0.2773658962058439\n",
      "Specificity:  0.19727047146401985\n"
     ]
    }
   ],
   "source": [
    "# RNN\n",
    "cm_rnn = confusion_matrix(y_test, r)\n",
    "print('For RNN')\n",
    "print('Confusion Matrix: ')\n",
    "print(cm_rnn)\n",
    "acc_rnn = accuracy_score(y_test, r)\n",
    "pre_rnn = precision_score(y_test, r)\n",
    "rec_rnn = recall_score(y_test, r)\n",
    "f1_rnn = f1_score(y_test, r)\n",
    "spec_rnn = cm_rnn[1,1]/(cm_rnn[1,0]+cm_rnn[1,1])\n",
    "print('Accuracy Score: ',acc_rnn)\n",
    "print('Precision Score: ',pre_rnn)\n",
    "print('Recall Score: ',rec_rnn)\n",
    "print('F1 Score: ',f1_rnn)\n",
    "print('Specificity: ', spec_rnn)"
   ]
  },
  {
   "cell_type": "markdown",
   "metadata": {},
   "source": [
    "# Classification Report"
   ]
  },
  {
   "cell_type": "code",
   "execution_count": 64,
   "metadata": {},
   "outputs": [],
   "source": [
    "from sklearn.metrics import classification_report\n",
    "\n",
    "targetNames=['DGA', 'Normal']"
   ]
  },
  {
   "cell_type": "code",
   "execution_count": 65,
   "metadata": {},
   "outputs": [
    {
     "name": "stdout",
     "output_type": "stream",
     "text": [
      "For ANN\n",
      "              precision    recall  f1-score   support\n",
      "\n",
      "         DGA       0.70      0.96      0.81      2388\n",
      "      Normal       0.88      0.37      0.52      1612\n",
      "\n",
      "    accuracy                           0.73      4000\n",
      "   macro avg       0.79      0.67      0.67      4000\n",
      "weighted avg       0.77      0.73      0.69      4000\n",
      "\n",
      "-----------------------------------------------------------------\n",
      "For CNN\n",
      "              precision    recall  f1-score   support\n",
      "\n",
      "         DGA       0.00      0.00      0.00      2388\n",
      "      Normal       0.40      1.00      0.57      1612\n",
      "\n",
      "    accuracy                           0.40      4000\n",
      "   macro avg       0.20      0.50      0.29      4000\n",
      "weighted avg       0.16      0.40      0.23      4000\n",
      "\n",
      "-----------------------------------------------------------------\n",
      "For LSTM\n",
      "              precision    recall  f1-score   support\n",
      "\n",
      "         DGA       0.54      0.56      0.55      2388\n",
      "      Normal       0.31      0.29      0.30      1612\n",
      "\n",
      "    accuracy                           0.45      4000\n",
      "   macro avg       0.43      0.43      0.43      4000\n",
      "weighted avg       0.45      0.45      0.45      4000\n",
      "\n",
      "-----------------------------------------------------------------\n",
      "For RNN\n",
      "              precision    recall  f1-score   support\n",
      "\n",
      "         DGA       0.61      0.85      0.71      2388\n",
      "      Normal       0.47      0.20      0.28      1612\n",
      "\n",
      "    accuracy                           0.59      4000\n",
      "   macro avg       0.54      0.52      0.49      4000\n",
      "weighted avg       0.55      0.59      0.54      4000\n",
      "\n"
     ]
    }
   ],
   "source": [
    "print('For ANN')\n",
    "print(classification_report(y_test, a, target_names=targetNames))\n",
    "print('-----------------------------------------------------------------')\n",
    "print('For CNN')\n",
    "print(classification_report(y_test, cnn_ypred.astype(int), target_names=targetNames))\n",
    "print('-----------------------------------------------------------------')\n",
    "print('For LSTM')\n",
    "print(classification_report(y_test, l, target_names=targetNames))\n",
    "print('-----------------------------------------------------------------')\n",
    "print('For RNN')\n",
    "print(classification_report(y_test, r, target_names=targetNames))"
   ]
  },
  {
   "cell_type": "markdown",
   "metadata": {},
   "source": [
    "# Heat Map"
   ]
  },
  {
   "cell_type": "code",
   "execution_count": 66,
   "metadata": {},
   "outputs": [],
   "source": [
    "import seaborn as sns"
   ]
  },
  {
   "cell_type": "code",
   "execution_count": 67,
   "metadata": {},
   "outputs": [
    {
     "name": "stdout",
     "output_type": "stream",
     "text": [
      "For ANN, Confusion Matrix: \n",
      "[[2303   85]\n",
      " [1010  602]]\n"
     ]
    },
    {
     "data": {
      "text/plain": [
       "<AxesSubplot:>"
      ]
     },
     "execution_count": 67,
     "metadata": {},
     "output_type": "execute_result"
    },
    {
     "data": {
      "image/png": "[encoded data removed]",
      "text/plain": [
       "<Figure size 432x288 with 2 Axes>"
      ]
     },
     "metadata": {
      "needs_background": "light"
     },
     "output_type": "display_data"
    }
   ],
   "source": [
    "# ANN\n",
    "\n",
    "clf_report_ann = classification_report(y_test, a, target_names=targetNames, output_dict= True)\n",
    "cleaned_report_ann = {}\n",
    "\n",
    "cleaned_report_ann['DGA'] = clf_report_ann['DGA']\n",
    "cleaned_report_ann['Normal'] = clf_report_ann['Normal']\n",
    "\n",
    "print('For ANN, Confusion Matrix: ')\n",
    "print(cm_ann)\n",
    "sns.heatmap(pd.DataFrame(cleaned_report_ann), annot=True, vmax=1.0, cmap=\"BuPu\")"
   ]
  },
  {
   "cell_type": "code",
   "execution_count": 68,
   "metadata": {},
   "outputs": [
    {
     "name": "stdout",
     "output_type": "stream",
     "text": [
      "For CNN, Confusion Matrix: \n",
      "[[   0 2388]\n",
      " [   0 1612]]\n"
     ]
    },
    {
     "data": {
      "text/plain": [
       "<AxesSubplot:>"
      ]
     },
     "execution_count": 68,
     "metadata": {},
     "output_type": "execute_result"
    },
    {
     "data": {
      "image/png": "[encoded data removed]",
      "text/plain": [
       "<Figure size 432x288 with 2 Axes>"
      ]
     },
     "metadata": {
      "needs_background": "light"
     },
     "output_type": "display_data"
    }
   ],
   "source": [
    "# CNN\n",
    "\n",
    "clf_report_cnn = classification_report(y_test, c, target_names=targetNames, output_dict= True)\n",
    "cleaned_report_cnn = {}\n",
    "\n",
    "cleaned_report_cnn['DGA'] = clf_report_cnn['DGA']\n",
    "cleaned_report_cnn['Normal'] = clf_report_cnn['Normal']\n",
    "\n",
    "print('For CNN, Confusion Matrix: ')\n",
    "print(cm_cnn)\n",
    "sns.heatmap(pd.DataFrame(cleaned_report_cnn), annot=True, vmax=1.0, cmap=\"BuPu\")"
   ]
  },
  {
   "cell_type": "code",
   "execution_count": 69,
   "metadata": {},
   "outputs": [
    {
     "name": "stdout",
     "output_type": "stream",
     "text": [
      "For LSTM, Confusion Matrix: \n",
      "[[1349 1039]\n",
      " [1143  469]]\n"
     ]
    },
    {
     "data": {
      "text/plain": [
       "<AxesSubplot:>"
      ]
     },
     "execution_count": 69,
     "metadata": {},
     "output_type": "execute_result"
    },
    {
     "data": {
      "image/png": "[encoded data removed]",
      "text/plain": [
       "<Figure size 432x288 with 2 Axes>"
      ]
     },
     "metadata": {
      "needs_background": "light"
     },
     "output_type": "display_data"
    }
   ],
   "source": [
    "# LSTM\n",
    "\n",
    "clf_report_lstm = classification_report(y_test, l, target_names=targetNames, output_dict= True)\n",
    "cleaned_report_lstm = {}\n",
    "\n",
    "cleaned_report_lstm['DGA'] = clf_report_lstm['DGA']\n",
    "cleaned_report_lstm['Normal'] = clf_report_lstm['Normal']\n",
    "\n",
    "print('For LSTM, Confusion Matrix: ')\n",
    "print(cm_lstm)\n",
    "sns.heatmap(pd.DataFrame(cleaned_report_lstm), annot=True, vmax=1.0, cmap=\"BuPu\")"
   ]
  },
  {
   "cell_type": "code",
   "execution_count": 70,
   "metadata": {},
   "outputs": [
    {
     "name": "stdout",
     "output_type": "stream",
     "text": [
      "For RNN, Confusion Matrix: \n",
      "[[2025  363]\n",
      " [1294  318]]\n"
     ]
    },
    {
     "data": {
      "text/plain": [
       "<AxesSubplot:>"
      ]
     },
     "execution_count": 70,
     "metadata": {},
     "output_type": "execute_result"
    },
    {
     "data": {
      "image/png": "[encoded data removed]",
      "text/plain": [
       "<Figure size 432x288 with 2 Axes>"
      ]
     },
     "metadata": {
      "needs_background": "light"
     },
     "output_type": "display_data"
    }
   ],
   "source": [
    "# RNN\n",
    "\n",
    "clf_report_rnn = classification_report(y_test, r, target_names=targetNames, output_dict= True)\n",
    "cleaned_report_rnn = {}\n",
    "\n",
    "cleaned_report_rnn['DGA'] = clf_report_rnn['DGA']\n",
    "cleaned_report_rnn['Normal'] = clf_report_rnn['Normal']\n",
    "\n",
    "print('For RNN, Confusion Matrix: ')\n",
    "print(cm_rnn)\n",
    "sns.heatmap(pd.DataFrame(cleaned_report_rnn), annot=True, vmax=1.0, cmap=\"BuPu\")"
   ]
  },
  {
   "cell_type": "markdown",
   "metadata": {},
   "source": [
    "# Visualization of Algorithm Evaluation Metrics"
   ]
  },
  {
   "cell_type": "code",
   "execution_count": 71,
   "metadata": {
    "scrolled": true
   },
   "outputs": [],
   "source": [
    "accuracies = {\"ANN\": ann_acc,  \n",
    "             \"CNN\": cnn_acc, \n",
    "             \"LSTM\": lstm_acc,\n",
    "             \"RNN\": rnn_acc\n",
    "             }\n",
    "\n",
    "precisions = {\"ANN\": pre_ann,  \n",
    "             \"CNN\": pre_cnn, \n",
    "             \"LSTM\": pre_lstm,\n",
    "              \"RNN\" : pre_rnn\n",
    "             }\n",
    "\n",
    "recalls = {\"ANN\": rec_ann,  \n",
    "             \"CNN\": rec_cnn, \n",
    "             \"LSTM\": rec_lstm,\n",
    "             \"RNN\": rec_rnn\n",
    "             }\n",
    "\n",
    "f1s = {\"ANN\": f1_ann,  \n",
    "             \"CNN\": f1_cnn, \n",
    "             \"LSTM\": f1_lstm,\n",
    "             \"RNN\": rec_rnn,\n",
    "             }\n",
    "\n",
    "spex = {\"ANN\": spec_ann,  \n",
    "             \"CNN\": spec_cnn, \n",
    "             \"LSTM\": spec_lstm,\n",
    "             \"RNN\": spec_rnn,\n",
    "             }"
   ]
  },
  {
   "cell_type": "code",
   "execution_count": 72,
   "metadata": {},
   "outputs": [
    {
     "name": "stdout",
     "output_type": "stream",
     "text": [
      "Classification models in descending order of Accuracy:\n"
     ]
    },
    {
     "data": {
      "text/plain": [
       "[('ANN', 0.7268750071525574),\n",
       " ('LSTM', 0.5576249957084656),\n",
       " ('RNN', 0.5400624871253967),\n",
       " ('CNN', 0.5048750042915344)]"
      ]
     },
     "execution_count": 72,
     "metadata": {},
     "output_type": "execute_result"
    }
   ],
   "source": [
    "print(\"Classification models in descending order of Accuracy:\")\n",
    "sorted(accuracies.items(), key=lambda x: x[1],reverse=True)"
   ]
  },
  {
   "cell_type": "code",
   "execution_count": 73,
   "metadata": {},
   "outputs": [
    {
     "data": {
      "image/png": "[encoded data removed]",
      "text/plain": [
       "<Figure size 576x360 with 1 Axes>"
      ]
     },
     "metadata": {
      "needs_background": "light"
     },
     "output_type": "display_data"
    }
   ],
   "source": [
    "lists = sorted(accuracies.items(), key=lambda x: x[1]*100) # sorted by key, return a list of tuples\n",
    "\n",
    "plt.figure(figsize=(8,5))\n",
    "plt.bar(*zip(*lists), color=\"coral\")\n",
    "plt.title('Classification Models vs Accuracy')\n",
    "plt.xlabel('Classification Models')\n",
    "plt.ylabel('Accuracy')\n",
    "plt.show()"
   ]
  },
  {
   "cell_type": "code",
   "execution_count": 74,
   "metadata": {},
   "outputs": [
    {
     "name": "stdout",
     "output_type": "stream",
     "text": [
      "Classification models in descending order of Precision:\n"
     ]
    },
    {
     "data": {
      "text/plain": [
       "[('ANN', 0.87627365356623),\n",
       " ('RNN', 0.4669603524229075),\n",
       " ('CNN', 0.403),\n",
       " ('LSTM', 0.3110079575596817)]"
      ]
     },
     "execution_count": 74,
     "metadata": {},
     "output_type": "execute_result"
    }
   ],
   "source": [
    "print(\"Classification models in descending order of Precision:\")\n",
    "sorted(precisions.items(), key=lambda x: x[1],reverse=True)"
   ]
  },
  {
   "cell_type": "code",
   "execution_count": 75,
   "metadata": {},
   "outputs": [
    {
     "data": {
      "image/png": "[encoded data removed]",
      "text/plain": [
       "<Figure size 576x360 with 1 Axes>"
      ]
     },
     "metadata": {
      "needs_background": "light"
     },
     "output_type": "display_data"
    }
   ],
   "source": [
    "lists = sorted(precisions.items(), key=lambda x: x[1]*100) # sorted by key, return a list of tuples\n",
    "\n",
    "plt.figure(figsize=(8,5))\n",
    "plt.bar(*zip(*lists), color=\"limegreen\")\n",
    "plt.ylim(0,1)\n",
    "plt.title('Classification Models vs Precision')\n",
    "plt.xlabel('Classification Models')\n",
    "plt.ylabel('Precision')\n",
    "plt.show()"
   ]
  },
  {
   "cell_type": "code",
   "execution_count": 76,
   "metadata": {},
   "outputs": [
    {
     "name": "stdout",
     "output_type": "stream",
     "text": [
      "Classification models in descending order of Recall:\n"
     ]
    },
    {
     "data": {
      "text/plain": [
       "[('CNN', 1.0),\n",
       " ('ANN', 0.37344913151364767),\n",
       " ('LSTM', 0.29094292803970223),\n",
       " ('RNN', 0.19727047146401985)]"
      ]
     },
     "execution_count": 76,
     "metadata": {},
     "output_type": "execute_result"
    }
   ],
   "source": [
    "print(\"Classification models in descending order of Recall:\")\n",
    "sorted(recalls.items(), key=lambda x: x[1],reverse=True)"
   ]
  },
  {
   "cell_type": "code",
   "execution_count": 77,
   "metadata": {},
   "outputs": [
    {
     "data": {
      "image/png": "[encoded data removed]",
      "text/plain": [
       "<Figure size 576x360 with 1 Axes>"
      ]
     },
     "metadata": {
      "needs_background": "light"
     },
     "output_type": "display_data"
    }
   ],
   "source": [
    "lists = sorted(recalls.items(), key=lambda x: x[1]*100) # sorted by key, return a list of tuples\n",
    "\n",
    "plt.figure(figsize=(8,5))\n",
    "plt.bar(*zip(*lists), color=\"dodgerblue\")\n",
    "plt.ylim(0,1)\n",
    "plt.title('Classification Models vs Recall')\n",
    "plt.xlabel('Classification Models')\n",
    "plt.ylabel('Recall')\n",
    "plt.show()"
   ]
  },
  {
   "cell_type": "code",
   "execution_count": 78,
   "metadata": {},
   "outputs": [
    {
     "name": "stdout",
     "output_type": "stream",
     "text": [
      "Classification models in descending order of F1:\n"
     ]
    },
    {
     "data": {
      "text/plain": [
       "[('CNN', 0.5744832501781896),\n",
       " ('ANN', 0.5237059591126576),\n",
       " ('LSTM', 0.3006410256410256),\n",
       " ('RNN', 0.19727047146401985)]"
      ]
     },
     "execution_count": 78,
     "metadata": {},
     "output_type": "execute_result"
    }
   ],
   "source": [
    "print(\"Classification models in descending order of F1:\")\n",
    "sorted(f1s.items(), key=lambda x: x[1],reverse=True)"
   ]
  },
  {
   "cell_type": "code",
   "execution_count": 79,
   "metadata": {},
   "outputs": [
    {
     "data": {
      "image/png": "[encoded data removed]",
      "text/plain": [
       "<Figure size 576x360 with 1 Axes>"
      ]
     },
     "metadata": {
      "needs_background": "light"
     },
     "output_type": "display_data"
    }
   ],
   "source": [
    "lists = sorted(f1s.items(), key=lambda x: x[1]*100) # sorted by key, return a list of tuples\n",
    "\n",
    "plt.figure(figsize=(8,5))\n",
    "plt.bar(*zip(*lists), color=\"darkmagenta\")\n",
    "plt.ylim(0,1)\n",
    "plt.title('Classification Models vs F1')\n",
    "plt.xlabel('Classification Models')\n",
    "plt.ylabel('F1')\n",
    "plt.show()"
   ]
  },
  {
   "cell_type": "code",
   "execution_count": 80,
   "metadata": {},
   "outputs": [
    {
     "data": {
      "image/png": "[encoded data removed]",
      "text/plain": [
       "<Figure size 576x360 with 1 Axes>"
      ]
     },
     "metadata": {
      "needs_background": "light"
     },
     "output_type": "display_data"
    }
   ],
   "source": [
    "lists = sorted(spex.items(), key=lambda x: x[1]*100) # sorted by key, return a list of tuples\n",
    "\n",
    "plt.figure(figsize=(8,5))\n",
    "plt.bar(*zip(*lists), color=\"aquamarine\")\n",
    "plt.title('Classification Models vs Specificity')\n",
    "plt.xlabel('Classification Models')\n",
    "plt.ylabel('Specificity')\n",
    "plt.show()\n",
    "# print(\"\\t\\t\\t\\t\\t\\t   CNN bad, sona good ;)\")"
   ]
  }
 ],
 "metadata": {
  "colab": {
   "collapsed_sections": [
    "aNtjpwJOfeVy",
    "UPYCv24RkXZ0"
   ],
   "name": "DGA Botnet Detection",
   "provenance": []
  },
  "kernelspec": {
   "display_name": "Python 3 (ipykernel)",
   "language": "python",
   "name": "python3"
  },
  "language_info": {
   "codemirror_mode": {
    "name": "ipython",
    "version": 3
   },
   "file_extension": ".py",
   "mimetype": "text/x-python",
   "name": "python",
   "nbconvert_exporter": "python",
   "pygments_lexer": "ipython3",
   "version": "3.9.6"
  }
 },
 "nbformat": 4,
 "nbformat_minor": 1
}
